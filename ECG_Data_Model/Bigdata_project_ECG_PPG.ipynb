{
 "cells": [
  {
   "cell_type": "code",
   "execution_count": 32,
   "id": "6af33d1c",
   "metadata": {},
   "outputs": [],
   "source": [
    "import struct\n",
    "import os\n",
    "\n",
    "import numpy as np\n",
    "import pandas as pd"
   ]
  },
  {
   "cell_type": "code",
   "execution_count": 27,
   "id": "6f478c11",
   "metadata": {
    "scrolled": true
   },
   "outputs": [],
   "source": [
    "ECG_data = []\n",
    "\n",
    "for idx in range(1, 81) : #0~89까지 bin file 순회\n",
    "    data_path = os.path.join('ECG_' + str(idx) + '.bin') #file 경로 지정\n",
    "    with open(data_path, \"rb\") as f : # .bin file을 os 함수를 이용하여 rb로 open\n",
    "        data = np.frombuffer(f.read(), dtype=np.float16) # bin file 내용 저장\n",
    "    data = np.append(data, np.array([0]*(5051128 - len(data)))) # 길이가 짧은 것들은 0으로 채우기\n",
    "    ECG_data.append(data) # dataframe을 만들기 위해 data를 ECG_data에 추가\n",
    "\n",
    "    f.close() #읽은 .bin file close\n",
    "    \n",
    "df_col = [i for i in range(0, 5051128)] #dataframe의 column\n",
    "\n",
    "ECG = pd.DataFrame(columns = df_col)\n",
    "\n",
    "for i in range(0, 80) :\n",
    "    ECG.loc[i] = ECG_data[i]\n",
    "ECG"
   ]
  },
  {
   "cell_type": "code",
   "execution_count": 14,
   "id": "7a1fb836",
   "metadata": {},
   "outputs": [
    {
     "data": {
      "text/html": [
       "<div>\n",
       "<style scoped>\n",
       "    .dataframe tbody tr th:only-of-type {\n",
       "        vertical-align: middle;\n",
       "    }\n",
       "\n",
       "    .dataframe tbody tr th {\n",
       "        vertical-align: top;\n",
       "    }\n",
       "\n",
       "    .dataframe thead th {\n",
       "        text-align: right;\n",
       "    }\n",
       "</style>\n",
       "<table border=\"1\" class=\"dataframe\">\n",
       "  <thead>\n",
       "    <tr style=\"text-align: right;\">\n",
       "      <th></th>\n",
       "      <th>1523600876.00</th>\n",
       "    </tr>\n",
       "  </thead>\n",
       "  <tbody>\n",
       "    <tr>\n",
       "      <th>0</th>\n",
       "      <td>64.00</td>\n",
       "    </tr>\n",
       "    <tr>\n",
       "      <th>1</th>\n",
       "      <td>-0.00</td>\n",
       "    </tr>\n",
       "    <tr>\n",
       "      <th>2</th>\n",
       "      <td>-0.00</td>\n",
       "    </tr>\n",
       "    <tr>\n",
       "      <th>3</th>\n",
       "      <td>-0.00</td>\n",
       "    </tr>\n",
       "    <tr>\n",
       "      <th>4</th>\n",
       "      <td>-0.00</td>\n",
       "    </tr>\n",
       "    <tr>\n",
       "      <th>...</th>\n",
       "      <td>...</td>\n",
       "    </tr>\n",
       "    <tr>\n",
       "      <th>399747</th>\n",
       "      <td>24.33</td>\n",
       "    </tr>\n",
       "    <tr>\n",
       "      <th>399748</th>\n",
       "      <td>22.41</td>\n",
       "    </tr>\n",
       "    <tr>\n",
       "      <th>399749</th>\n",
       "      <td>20.27</td>\n",
       "    </tr>\n",
       "    <tr>\n",
       "      <th>399750</th>\n",
       "      <td>17.43</td>\n",
       "    </tr>\n",
       "    <tr>\n",
       "      <th>399751</th>\n",
       "      <td>13.74</td>\n",
       "    </tr>\n",
       "  </tbody>\n",
       "</table>\n",
       "<p>399752 rows × 1 columns</p>\n",
       "</div>"
      ],
      "text/plain": [
       "        1523600876.00\n",
       "0               64.00\n",
       "1               -0.00\n",
       "2               -0.00\n",
       "3               -0.00\n",
       "4               -0.00\n",
       "...               ...\n",
       "399747          24.33\n",
       "399748          22.41\n",
       "399749          20.27\n",
       "399750          17.43\n",
       "399751          13.74\n",
       "\n",
       "[399752 rows x 1 columns]"
      ]
     },
     "execution_count": 14,
     "metadata": {},
     "output_type": "execute_result"
    }
   ],
   "source": [
    "import pandas as pd\n",
    "\n",
    "bvp = pd.read_csv('./BVP.csv')\n",
    "bvp"
   ]
  }
 ],
 "metadata": {
  "kernelspec": {
   "display_name": "Python 3 (ipykernel)",
   "language": "python",
   "name": "python3"
  },
  "language_info": {
   "codemirror_mode": {
    "name": "ipython",
    "version": 3
   },
   "file_extension": ".py",
   "mimetype": "text/x-python",
   "name": "python",
   "nbconvert_exporter": "python",
   "pygments_lexer": "ipython3",
   "version": "3.9.15"
  }
 },
 "nbformat": 4,
 "nbformat_minor": 5
}
