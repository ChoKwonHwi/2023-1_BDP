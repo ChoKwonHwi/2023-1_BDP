{
 "cells": [
  {
   "cell_type": "code",
   "execution_count": 4,
   "metadata": {},
   "outputs": [],
   "source": [
    "import warnings\n",
    "warnings.filterwarnings(\"ignore\")"
   ]
  },
  {
   "cell_type": "code",
   "execution_count": 11,
   "metadata": {},
   "outputs": [],
   "source": [
    "import numpy as np\n",
    "import pandas as pd\n",
    "from sklearn.preprocessing import StandardScaler\n",
    "from keras.models import Model\n",
    "from keras.layers import Input, Dense\n",
    "\n",
    "# EDA 데이터 경로 설정\n",
    "eda_folder = \"EDA_preprocessed/Output_EDA/\"\n",
    "\n",
    "# 사용할 사람 ID 및 시청 영상 종류 리스트\n",
    "train_ids = ['001', '005', '006', '009', '010', '011', '012', '013', '015', '021', '022', '023',\n",
    "             '024', '026', '027', '028', '031', '032', '033', '036', '038', '041', '042', '044',\n",
    "             '045', '047', '053', '054', '055', '060', '062', '063', '064', '066', '070', '072',\n",
    "             '073', '075', '076', '077', '078']\n",
    "test_ids = ['002', '003', '007', '017', '018', '019', '020', '025', '029', '030', '039', '043',\n",
    "            '048', '052', '059', '065', '068', '074']\n",
    "\n",
    "# 데이터프레임 초기화\n",
    "X_train = pd.DataFrame()\n",
    "X_test = pd.DataFrame()\n",
    "y_train = []\n",
    "y_test = []\n",
    "\n",
    "# 데이터 전처리\n",
    "data_train = []\n",
    "data_test = []\n",
    "\n",
    "# 전체 데이터셋에 대한 표준화\n",
    "scaler = StandardScaler()\n",
    "\n",
    "for id in train_ids:\n",
    "    for emotion in ['happy', 'fear', 'sad', 'neutral', 'anger', 'disgust']:\n",
    "        file_path = f\"{eda_folder}/{id}/{id}_{emotion}.csv\"\n",
    "        data = pd.read_csv(file_path, header=None)\n",
    "        scaled_data = scaler.fit_transform(data)\n",
    "        data_train.append(scaled_data)\n",
    "        y_train.append(emotion)  \n",
    "\n",
    "for id in test_ids:\n",
    "    for emotion in ['happy', 'fear', 'sad', 'neutral', 'anger', 'disgust']:\n",
    "        file_path = f\"{eda_folder}/{id}/{id}_{emotion}.csv\"\n",
    "        data = pd.read_csv(file_path, header=None)\n",
    "        scaled_data = scaler.transform(data)\n",
    "        data_test.append(scaled_data)\n",
    "        y_test.append(emotion)  \n",
    "\n"
   ]
  },
  {
   "cell_type": "code",
   "execution_count": 12,
   "metadata": {},
   "outputs": [],
   "source": [
    "# 데이터를 각각의 리스트에 추가\n",
    "for i in range(len(train_ids)):\n",
    "    for j in range(6):\n",
    "        features = np.concatenate((np.array([train_ids[i]]), data_train[i][j].flatten(), np.array([j])), axis=None)\n",
    "        X_train = X_train.append(pd.Series(features), ignore_index=True)\n",
    "\n",
    "for i in range(len(test_ids)):\n",
    "    for j in range(6):\n",
    "        features = np.concatenate((np.array([test_ids[i]]), data_test[i][j].flatten(), np.array([j])), axis=None)\n",
    "        X_test = X_test.append(pd.Series(features), ignore_index=True)\n"
   ]
  },
  {
   "cell_type": "code",
   "execution_count": 13,
   "metadata": {},
   "outputs": [
    {
     "name": "stdout",
     "output_type": "stream",
     "text": [
      "0    object\n",
      "1    object\n",
      "2    object\n",
      "dtype: object\n",
      "0    object\n",
      "1    object\n",
      "2    object\n",
      "dtype: object\n"
     ]
    }
   ],
   "source": [
    "print(X_train.dtypes)\n",
    "print(X_test.dtypes)"
   ]
  },
  {
   "cell_type": "code",
   "execution_count": 14,
   "metadata": {},
   "outputs": [],
   "source": [
    "# 데이터 유형 변환\n",
    "X_train = X_train.astype(float)\n",
    "X_test = X_test.astype(float)"
   ]
  },
  {
   "cell_type": "code",
   "execution_count": 15,
   "metadata": {},
   "outputs": [],
   "source": [
    "# 라벨 데이터 변환\n",
    "label_mapping = {'happy': 0, 'fear': 1, 'sad': 2, 'neutral': 3, 'anger': 4, 'disgust': 5}\n",
    "y_train = [label_mapping[y] for y in y_train]\n",
    "y_test = [label_mapping[y] for y in y_test]"
   ]
  },
  {
   "cell_type": "code",
   "execution_count": 16,
   "metadata": {},
   "outputs": [
    {
     "name": "stdout",
     "output_type": "stream",
     "text": [
      "0    float64\n",
      "1    float64\n",
      "2    float64\n",
      "dtype: object\n",
      "0    float64\n",
      "1    float64\n",
      "2    float64\n",
      "dtype: object\n"
     ]
    }
   ],
   "source": [
    "print(X_train.dtypes)\n",
    "print(X_test.dtypes)"
   ]
  },
  {
   "cell_type": "code",
   "execution_count": 46,
   "metadata": {},
   "outputs": [
    {
     "name": "stdout",
     "output_type": "stream",
     "text": [
      "Epoch 1/15\n",
      "8/8 [==============================] - 2s 74ms/step - loss: 718.2800 - val_loss: 5373.2598\n",
      "Epoch 2/15\n",
      "8/8 [==============================] - 0s 15ms/step - loss: 709.8922 - val_loss: 5367.8252\n",
      "Epoch 3/15\n",
      "8/8 [==============================] - 0s 12ms/step - loss: 694.8931 - val_loss: 5365.3906\n",
      "Epoch 4/15\n",
      "8/8 [==============================] - 0s 11ms/step - loss: 692.5749 - val_loss: 5351.6182\n",
      "Epoch 5/15\n",
      "8/8 [==============================] - 0s 20ms/step - loss: 691.9666 - val_loss: 5348.5405\n",
      "Epoch 6/15\n",
      "8/8 [==============================] - 0s 11ms/step - loss: 691.7269 - val_loss: 5348.1572\n",
      "Epoch 7/15\n",
      "8/8 [==============================] - 0s 11ms/step - loss: 691.6733 - val_loss: 5348.0884\n",
      "Epoch 8/15\n",
      "8/8 [==============================] - 0s 26ms/step - loss: 691.6144 - val_loss: 5348.0708\n",
      "Epoch 9/15\n",
      "8/8 [==============================] - 0s 26ms/step - loss: 691.5883 - val_loss: 5348.0259\n",
      "Epoch 10/15\n",
      "8/8 [==============================] - 0s 21ms/step - loss: 691.5565 - val_loss: 5347.9839\n",
      "Epoch 11/15\n",
      "8/8 [==============================] - 0s 16ms/step - loss: 691.5361 - val_loss: 5347.9619\n",
      "Epoch 12/15\n",
      "8/8 [==============================] - 0s 11ms/step - loss: 691.5172 - val_loss: 5347.9365\n",
      "Epoch 13/15\n",
      "8/8 [==============================] - 0s 12ms/step - loss: 691.4993 - val_loss: 5347.9053\n",
      "Epoch 14/15\n",
      "8/8 [==============================] - 0s 11ms/step - loss: 691.4851 - val_loss: 5347.8750\n",
      "Epoch 15/15\n",
      "8/8 [==============================] - 0s 12ms/step - loss: 691.4706 - val_loss: 5347.8481\n",
      "8/8 [==============================] - 0s 2ms/step\n",
      "4/4 [==============================] - 0s 2ms/step\n"
     ]
    }
   ],
   "source": [
    "# Autoencoder 모델 정의\n",
    "input_dim = X_train.shape[1]\n",
    "encoding_dim = 64 \n",
    "\n",
    "input_layer = Input(shape=(input_dim,))\n",
    "encoder = Dense(encoding_dim, activation='relu')(input_layer)\n",
    "decoder = Dense(input_dim, activation='sigmoid')(encoder)\n",
    "\n",
    "autoencoder = Model(input_layer, decoder)\n",
    "autoencoder.compile(optimizer='adam', loss='mse')\n",
    "\n",
    "# 모델 학습\n",
    "autoencoder.fit(X_train, X_train, epochs=15, batch_size=32, shuffle=True, validation_data=(X_test, X_test))\n",
    "\n",
    "# 특징 추출\n",
    "encoder_model = Model(input_layer, encoder)\n",
    "encoded_X_train = encoder_model.predict(X_train)\n",
    "encoded_X_test = encoder_model.predict(X_test)\n"
   ]
  },
  {
   "cell_type": "code",
   "execution_count": 47,
   "metadata": {},
   "outputs": [
    {
     "name": "stdout",
     "output_type": "stream",
     "text": [
      "Encoded Train data:\n",
      "[[ 0.          0.18429577  0.         ...  0.          0.\n",
      "   0.3257595 ]\n",
      " [ 0.2583171   0.27240455  0.         ...  0.          0.\n",
      "   0.11707751]\n",
      " [ 0.6630129   1.2244285   0.         ...  0.          0.\n",
      "   0.        ]\n",
      " ...\n",
      " [ 0.         11.246413    0.         ...  0.          0.\n",
      "  21.727383  ]\n",
      " [ 0.         11.390205    0.         ...  0.          0.\n",
      "  21.475027  ]\n",
      " [ 0.         11.3948      0.         ...  0.          0.\n",
      "  21.331844  ]]\n",
      "Encoded Test data:\n",
      "[[ 0.         0.         0.        ...  0.         0.         7.8865905]\n",
      " [ 0.         0.         0.        ...  0.         0.         7.6779084]\n",
      " [ 0.         0.         0.        ...  0.         0.         7.4692264]\n",
      " ...\n",
      " [ 0.        94.99119    9.540165  ...  0.        45.31725    0.       ]\n",
      " [ 0.        95.49677    9.553176  ...  0.        45.25236    0.       ]\n",
      " [ 0.        95.584885   9.516296  ...  0.        44.931145   0.       ]]\n"
     ]
    }
   ],
   "source": [
    "# 결과 확인\n",
    "print(\"Encoded Train data:\")\n",
    "print(encoded_X_train)\n",
    "print(\"Encoded Test data:\")\n",
    "print(encoded_X_test)"
   ]
  }
 ],
 "metadata": {
  "kernelspec": {
   "display_name": "base",
   "language": "python",
   "name": "python3"
  },
  "language_info": {
   "codemirror_mode": {
    "name": "ipython",
    "version": 3
   },
   "file_extension": ".py",
   "mimetype": "text/x-python",
   "name": "python",
   "nbconvert_exporter": "python",
   "pygments_lexer": "ipython3",
   "version": "3.9.7"
  },
  "orig_nbformat": 4
 },
 "nbformat": 4,
 "nbformat_minor": 2
}
