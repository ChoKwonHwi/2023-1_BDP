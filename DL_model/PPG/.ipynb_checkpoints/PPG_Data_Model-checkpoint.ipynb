{
 "cells": [
  {
   "cell_type": "code",
   "execution_count": 157,
   "metadata": {
    "executionInfo": {
     "elapsed": 5447,
     "status": "ok",
     "timestamp": 1685846329567,
     "user": {
      "displayName": "당호연",
      "userId": "00443455778656844380"
     },
     "user_tz": -540
    },
    "id": "zRdm9yT9Ol6x"
   },
   "outputs": [],
   "source": [
    "import numpy as np\n",
    "import pandas as pd\n",
    "import keras\n",
    "from sklearn.preprocessing import StandardScaler\n",
    "from keras.models import Sequential\n",
    "from keras.wrappers.scikit_learn import KerasClassifier\n",
    "from keras.utils import np_utils, plot_model\n",
    "import matplotlib.pyplot as pl\n",
    "from sklearn import metrics\n",
    "from sklearn.preprocessing import LabelEncoder\n",
    "from keras.layers import Dense, Dropout, Flatten, Conv1D, MaxPooling1D\n",
    "from keras.models import model_from_json\n",
    "import matplotlib.pyplot as plt\n",
    "from sklearn.metrics import confusion_matrix\n",
    "import os\n",
    "import itertools\n",
    "from keras.datasets import imdb\n",
    "from keras.layers import Embedding, Conv1D, MaxPooling1D, GlobalMaxPooling1D, Dense,Reshape\n",
    "from keras.optimizers import RMSprop\n",
    "import warnings\n",
    "#Data path\n",
    "eda_folder = \"/content/drive/MyDrive/PPG/PPG\"\n",
    "\n",
    "#Training set and test set\n",
    "train_ids = ['001', '005', '006', '009', '010', '011', '012', '013', '015', '021', '022', '023',\n",
    "             '024', '026', '027', '028', '031', '032', '033', '036', '038', '041', '042', '044',\n",
    "             '045', '047', '053', '054', '055', '060', '062', '063', '064', '066', '070', '072',\n",
    "             '073', '075', '076', '077', '078']\n",
    "test_ids = ['002', '003', '007', '017', '018', '019', '020', '025', '029', '030', '039', '043',\n",
    "            '048', '052', '059', '065', '068', '074']\n",
    "\n",
    "#Data frame initialization\n",
    "x_train = pd.DataFrame()\n",
    "x_test = pd.DataFrame()\n",
    "y_train = []\n",
    "y_test = []\n",
    "\n",
    "#Data preprocessing\n",
    "data_train = []\n",
    "data_test = []\n",
    "\n",
    "#Data standardization\n",
    "scaler = StandardScaler()\n",
    "\n",
    "for id in train_ids:\n",
    "    for emotion in ['anger', 'disgust', 'fear', 'happy', 'neutral', 'sad']:\n",
    "        file_path = f\"{eda_folder}/train/{emotion}/{id}.csv\"\n",
    "        data = pd.read_csv(file_path, header=None)\n",
    "        scaled_data = scaler.fit_transform(data)\n",
    "        data_train.append(scaled_data)\n",
    "        y_train.append(emotion)  \n",
    "\n",
    "for id in test_ids:\n",
    "    for emotion in ['anger', 'disgust', 'fear', 'happy', 'neutral', 'sad']:\n",
    "        file_path = f\"{eda_folder}/test/{emotion}/{id}.csv\"\n",
    "        data = pd.read_csv(file_path, header=None)\n",
    "        scaled_data = scaler.transform(data)\n",
    "        data_test.append(scaled_data)\n",
    "        y_test.append(emotion)"
   ]
  },
  {
   "cell_type": "code",
   "execution_count": null,
   "metadata": {
    "id": "oEY1OwIGQfFk"
   },
   "outputs": [],
   "source": [
    "#Put the data into a list\n",
    "for i in range(len(train_ids)):\n",
    "    for j in range(6):\n",
    "        features = np.concatenate((np.array([train_ids[i]]), data_train[i][j].flatten(), np.array([j])), axis=None)\n",
    "        x_train = x_train.append(pd.Series(features), ignore_index=True)\n",
    "\n",
    "for i in range(len(test_ids)):\n",
    "    for j in range(6):\n",
    "        features = np.concatenate((np.array([test_ids[i]]), data_test[i][j].flatten(), np.array([j])), axis=None)\n",
    "        x_test = x_test.append(pd.Series(features), ignore_index=True)"
   ]
  },
  {
   "cell_type": "code",
   "execution_count": null,
   "metadata": {
    "id": "TnGFpVBiQjbK"
   },
   "outputs": [],
   "source": [
    "print(x_train.dtypes)\n",
    "print(x_test.dtypes)"
   ]
  },
  {
   "cell_type": "code",
   "execution_count": 160,
   "metadata": {
    "executionInfo": {
     "elapsed": 293,
     "status": "ok",
     "timestamp": 1685846339749,
     "user": {
      "displayName": "당호연",
      "userId": "00443455778656844380"
     },
     "user_tz": -540
    },
    "id": "5th-6gWIQntR"
   },
   "outputs": [],
   "source": [
    "#Conversion tag\n",
    "label_mapping = {'anger': 0, 'disgust': 1, 'fear': 2, 'happy': 3, 'neutral': 4, 'sad': 5}\n",
    "y_train = [label_mapping[y] for y in y_train]\n",
    "y_test = [label_mapping[y] for y in y_test]"
   ]
  },
  {
   "cell_type": "code",
   "execution_count": 161,
   "metadata": {
    "executionInfo": {
     "elapsed": 4,
     "status": "ok",
     "timestamp": 1685846341322,
     "user": {
      "displayName": "당호연",
      "userId": "00443455778656844380"
     },
     "user_tz": -540
    },
    "id": "Fd5YZMyzQmS6"
   },
   "outputs": [],
   "source": [
    "#Conversion data type\n",
    "y_train=np.array(y_train)\n",
    "y_test=np.array(y_test)\n",
    "\n",
    "x_train = x_train.astype(float)\n",
    "x_test = x_test.astype(float)"
   ]
  },
  {
   "cell_type": "code",
   "execution_count": 162,
   "metadata": {
    "colab": {
     "base_uri": "https://localhost:8080/"
    },
    "executionInfo": {
     "elapsed": 399,
     "status": "ok",
     "timestamp": 1685846343570,
     "user": {
      "displayName": "당호연",
      "userId": "00443455778656844380"
     },
     "user_tz": -540
    },
    "id": "4pqt564CQo8N",
    "outputId": "b4906b46-e7a2-40d8-db07-2591fdffa4e4"
   },
   "outputs": [
    {
     "name": "stdout",
     "output_type": "stream",
     "text": [
      "        0         1    2\n",
      "0     1.0  1.017642  0.0\n",
      "1     1.0  1.074905  1.0\n",
      "2     1.0  1.112727  2.0\n",
      "3     1.0  1.123684  3.0\n",
      "4     1.0  1.107424  4.0\n",
      "..    ...       ...  ...\n",
      "241  78.0 -0.253383  1.0\n",
      "242  78.0 -0.205916  2.0\n",
      "243  78.0 -0.136707  3.0\n",
      "244  78.0 -0.054552  4.0\n",
      "245  78.0  0.027104  5.0\n",
      "\n",
      "[246 rows x 3 columns] (246, 3)\n",
      "        0         1    2\n",
      "0     2.0  0.012943  0.0\n",
      "1     2.0  0.016730  1.0\n",
      "2     2.0  0.018387  2.0\n",
      "3     2.0  0.017203  3.0\n",
      "4     2.0  0.012233  4.0\n",
      "..    ...       ...  ...\n",
      "103  74.0  0.267136  1.0\n",
      "104  74.0  0.242759  2.0\n",
      "105  74.0  0.216250  3.0\n",
      "106  74.0  0.183825  4.0\n",
      "107  74.0  0.142170  5.0\n",
      "\n",
      "[108 rows x 3 columns] (108, 3)\n",
      "[0 1 2 3 4 5 0 1 2 3 4 5 0 1 2 3 4 5 0 1 2 3 4 5 0 1 2 3 4 5 0 1 2 3 4 5 0\n",
      " 1 2 3 4 5 0 1 2 3 4 5 0 1 2 3 4 5 0 1 2 3 4 5 0 1 2 3 4 5 0 1 2 3 4 5 0 1\n",
      " 2 3 4 5 0 1 2 3 4 5 0 1 2 3 4 5 0 1 2 3 4 5 0 1 2 3 4 5 0 1 2 3 4 5 0 1 2\n",
      " 3 4 5 0 1 2 3 4 5 0 1 2 3 4 5 0 1 2 3 4 5 0 1 2 3 4 5 0 1 2 3 4 5 0 1 2 3\n",
      " 4 5 0 1 2 3 4 5 0 1 2 3 4 5 0 1 2 3 4 5 0 1 2 3 4 5 0 1 2 3 4 5 0 1 2 3 4\n",
      " 5 0 1 2 3 4 5 0 1 2 3 4 5 0 1 2 3 4 5 0 1 2 3 4 5 0 1 2 3 4 5 0 1 2 3 4 5\n",
      " 0 1 2 3 4 5 0 1 2 3 4 5 0 1 2 3 4 5 0 1 2 3 4 5] (246,)\n",
      "[0 1 2 3 4 5 0 1 2 3 4 5 0 1 2 3 4 5 0 1 2 3 4 5 0 1 2 3 4 5 0 1 2 3 4 5 0\n",
      " 1 2 3 4 5 0 1 2 3 4 5 0 1 2 3 4 5 0 1 2 3 4 5 0 1 2 3 4 5 0 1 2 3 4 5 0 1\n",
      " 2 3 4 5 0 1 2 3 4 5 0 1 2 3 4 5 0 1 2 3 4 5 0 1 2 3 4 5 0 1 2 3 4 5] (246,)\n"
     ]
    }
   ],
   "source": [
    "print(x_train,x_train.shape)\n",
    "print(x_test,x_test.shape)\n",
    "print(y_train,y_train.shape)\n",
    "print(y_test,y_train.shape)"
   ]
  },
  {
   "cell_type": "code",
   "execution_count": 163,
   "metadata": {
    "colab": {
     "base_uri": "https://localhost:8080/"
    },
    "executionInfo": {
     "elapsed": 287,
     "status": "ok",
     "timestamp": 1685846346386,
     "user": {
      "displayName": "당호연",
      "userId": "00443455778656844380"
     },
     "user_tz": -540
    },
    "id": "3RFfIGhTDG9C",
    "outputId": "9b8ac720-5a80-4f1e-a200-c69d8a6e00fb"
   },
   "outputs": [
    {
     "name": "stdout",
     "output_type": "stream",
     "text": [
      "x Train shape:  (246, 3)\n",
      "x Test shape:  (108, 3)\n"
     ]
    }
   ],
   "source": [
    "#Reshape train and test data to (246, 3, 1), where each sample is of size (246, 3)\n",
    "x_train = np.array(x_train).reshape(x_train.shape[0], x_train.shape[1])\n",
    "x_test = np.array(x_test).reshape(x_test.shape[0], x_test.shape[1])\n",
    "\n",
    "print(\"x Train shape: \", x_train.shape)\n",
    "print(\"x Test shape: \", x_test.shape)"
   ]
  },
  {
   "cell_type": "code",
   "execution_count": 164,
   "metadata": {
    "executionInfo": {
     "elapsed": 765,
     "status": "ok",
     "timestamp": 1685846348914,
     "user": {
      "displayName": "당호연",
      "userId": "00443455778656844380"
     },
     "user_tz": -540
    },
    "id": "wDI1bjOlspXV"
   },
   "outputs": [],
   "source": [
    "# Defined neural network\n",
    "from tensorflow.keras.layers import Flatten, Dense, Conv1D, MaxPool1D, Dropout\n",
    "import tensorflow as tf\n",
    "# Create sequential model \n",
    "model = tf.keras.models.Sequential()\n",
    "#First CNN layer  with 32 filters, conv window 3, relu activation and same padding\n",
    "model.add(Conv1D(filters=32, kernel_size=(3,), padding='same', activation=tf.keras.layers.LeakyReLU(alpha=0.001), input_shape = (x_train.shape[1],1)))\n",
    "#Second CNN layer  with 64 filters, conv window 3, relu activation and same padding\n",
    "model.add(Conv1D(filters=64, kernel_size=(3,), padding='same', activation=tf.keras.layers.LeakyReLU(alpha=0.001)))\n",
    "#Third CNN layer with 128 filters, conv window 3, relu activation and same padding\n",
    "model.add(Conv1D(filters=128, kernel_size=(3,), padding='same', activation=tf.keras.layers.LeakyReLU(alpha=0.001)))\n",
    "#Fourth CNN layer with Max pooling\n",
    "model.add(MaxPool1D(pool_size=(3,), strides=2, padding='same'))\n",
    "model.add(Dropout(0.5))\n",
    "#Flatten the output\n",
    "model.add(Flatten())\n",
    "#Add a dense layer with 256 neurons\n",
    "model.add(Dense(units = 256, activation=tf.keras.layers.LeakyReLU(alpha=0.001)))\n",
    "#Add a dense layer with 512 neurons\n",
    "model.add(Dense(units = 512, activation=tf.keras.layers.LeakyReLU(alpha=0.001)))\n",
    "#Softmax as last layer with five outputs\n",
    "model.add(Dense(units = 6, activation='softmax'))\n",
    "\n",
    "model.compile(optimizer='adam', loss = 'sparse_categorical_crossentropy', metrics=['accuracy'])\n"
   ]
  },
  {
   "cell_type": "code",
   "execution_count": 165,
   "metadata": {
    "colab": {
     "base_uri": "https://localhost:8080/"
    },
    "executionInfo": {
     "elapsed": 393,
     "status": "ok",
     "timestamp": 1685846351606,
     "user": {
      "displayName": "당호연",
      "userId": "00443455778656844380"
     },
     "user_tz": -540
    },
    "id": "G3QC3yF_9Ot5",
    "outputId": "9a713ca3-17c6-45a1-b06e-a639afc5a8c5"
   },
   "outputs": [
    {
     "name": "stdout",
     "output_type": "stream",
     "text": [
      "Model: \"sequential_40\"\n",
      "_________________________________________________________________\n",
      " Layer (type)                Output Shape              Param #   \n",
      "=================================================================\n",
      " conv1d_47 (Conv1D)          (None, 3, 32)             128       \n",
      "                                                                 \n",
      " conv1d_48 (Conv1D)          (None, 3, 64)             6208      \n",
      "                                                                 \n",
      " conv1d_49 (Conv1D)          (None, 3, 128)            24704     \n",
      "                                                                 \n",
      " max_pooling1d_11 (MaxPoolin  (None, 2, 128)           0         \n",
      " g1D)                                                            \n",
      "                                                                 \n",
      " dropout_11 (Dropout)        (None, 2, 128)            0         \n",
      "                                                                 \n",
      " flatten_11 (Flatten)        (None, 256)               0         \n",
      "                                                                 \n",
      " dense_33 (Dense)            (None, 256)               65792     \n",
      "                                                                 \n",
      " dense_34 (Dense)            (None, 512)               131584    \n",
      "                                                                 \n",
      " dense_35 (Dense)            (None, 6)                 3078      \n",
      "                                                                 \n",
      "=================================================================\n",
      "Total params: 231,494\n",
      "Trainable params: 231,494\n",
      "Non-trainable params: 0\n",
      "_________________________________________________________________\n"
     ]
    }
   ],
   "source": [
    "# View the defined model\n",
    "model.summary()"
   ]
  },
  {
   "cell_type": "code",
   "execution_count": 166,
   "metadata": {
    "colab": {
     "base_uri": "https://localhost:8080/"
    },
    "executionInfo": {
     "elapsed": 7416,
     "status": "ok",
     "timestamp": 1685846361005,
     "user": {
      "displayName": "당호연",
      "userId": "00443455778656844380"
     },
     "user_tz": -540
    },
    "id": "FO_cUpfEE3_4",
    "outputId": "d041db93-554b-4de6-a4c2-710698a35a80"
   },
   "outputs": [
    {
     "name": "stdout",
     "output_type": "stream",
     "text": [
      "Epoch 1/10\n",
      "25/25 [==============================] - 3s 28ms/step - loss: 1.9742 - accuracy: 0.1707 - val_loss: 1.7881 - val_accuracy: 0.2500\n",
      "Epoch 2/10\n",
      "25/25 [==============================] - 0s 15ms/step - loss: 1.8032 - accuracy: 0.2154 - val_loss: 1.6767 - val_accuracy: 0.2500\n",
      "Epoch 3/10\n",
      "25/25 [==============================] - 0s 16ms/step - loss: 1.6222 - accuracy: 0.3130 - val_loss: 1.4308 - val_accuracy: 0.4259\n",
      "Epoch 4/10\n",
      "25/25 [==============================] - 0s 16ms/step - loss: 1.3937 - accuracy: 0.3984 - val_loss: 1.2419 - val_accuracy: 0.4259\n",
      "Epoch 5/10\n",
      "25/25 [==============================] - 0s 11ms/step - loss: 1.2519 - accuracy: 0.4309 - val_loss: 1.1048 - val_accuracy: 0.4352\n",
      "Epoch 6/10\n",
      "25/25 [==============================] - 0s 10ms/step - loss: 1.1346 - accuracy: 0.4512 - val_loss: 0.9671 - val_accuracy: 0.5926\n",
      "Epoch 7/10\n",
      "25/25 [==============================] - 0s 10ms/step - loss: 1.0347 - accuracy: 0.5366 - val_loss: 1.2030 - val_accuracy: 0.4630\n",
      "Epoch 8/10\n",
      "25/25 [==============================] - 0s 8ms/step - loss: 1.0692 - accuracy: 0.5244 - val_loss: 0.8872 - val_accuracy: 0.6111\n",
      "Epoch 9/10\n",
      "25/25 [==============================] - 0s 11ms/step - loss: 0.9034 - accuracy: 0.6057 - val_loss: 0.7250 - val_accuracy: 0.7315\n",
      "Epoch 10/10\n",
      "25/25 [==============================] - 0s 8ms/step - loss: 0.8818 - accuracy: 0.6341 - val_loss: 0.7030 - val_accuracy: 0.6204\n"
     ]
    }
   ],
   "source": [
    "#Model learning\n",
    "model_history = model.fit(x_train, y_train, epochs=10, batch_size = 10, validation_data = (x_test, y_test))"
   ]
  },
  {
   "cell_type": "code",
   "execution_count": 167,
   "metadata": {
    "colab": {
     "base_uri": "https://localhost:8080/"
    },
    "executionInfo": {
     "elapsed": 705,
     "status": "ok",
     "timestamp": 1685846362739,
     "user": {
      "displayName": "당호연",
      "userId": "00443455778656844380"
     },
     "user_tz": -540
    },
    "id": "649CY7mdQMsd",
    "outputId": "886d80ac-ace2-4cec-dcfb-f4235a9e181b"
   },
   "outputs": [
    {
     "name": "stdout",
     "output_type": "stream",
     "text": [
      "8/8 [==============================] - 0s 4ms/step\n",
      "4/4 [==============================] - 0s 7ms/step\n",
      "Encoded Train data:\n",
      "[[8.0436951e-01 1.6215029e-01 2.7755167e-02 4.9051112e-03 6.3118432e-04\n",
      "  1.8882945e-04]\n",
      " [4.6582723e-01 3.4421149e-01 1.4598726e-01 3.4308895e-02 6.9118338e-03\n",
      "  2.7532997e-03]\n",
      " [4.1051093e-02 1.2933324e-01 5.2173316e-01 2.1896154e-01 6.1995555e-02\n",
      "  2.6925405e-02]\n",
      " ...\n",
      " [9.9186618e-05 2.2183235e-03 3.4164217e-01 4.5170280e-01 1.5980415e-01\n",
      "  4.4533290e-02]\n",
      " [8.6482282e-07 4.1473566e-05 2.8885489e-02 3.2363552e-01 4.2716447e-01\n",
      "  2.2027218e-01]\n",
      " [5.2174420e-09 5.1042321e-07 1.4671597e-03 1.1662298e-01 4.3156329e-01\n",
      "  4.5034602e-01]]\n",
      "Encoded Test data:\n",
      "[[8.81414115e-01 1.04211643e-01 1.23220431e-02 1.81283266e-03\n",
      "  1.90959865e-04 4.83692238e-05]\n",
      " [4.79446620e-01 3.35025519e-01 1.37498036e-01 3.66600044e-02\n",
      "  8.05401709e-03 3.31582525e-03]\n",
      " [2.75497772e-02 8.36711749e-02 4.21679676e-01 2.92367727e-01\n",
      "  1.17675357e-01 5.70562854e-02]\n",
      " [5.26235846e-04 2.50458461e-03 5.15272804e-02 2.66447008e-01\n",
      "  3.40787083e-01 3.38207871e-01]\n",
      " [7.35697722e-06 6.46289118e-05 4.99885762e-03 1.08572930e-01\n",
      "  3.21928740e-01 5.64427495e-01]\n",
      " [1.10361022e-07 1.89682396e-06 5.62640489e-04 4.49517779e-02\n",
      "  2.51379073e-01 7.03104556e-01]\n",
      " [8.87508929e-01 9.93404686e-02 1.13083376e-02 1.63489394e-03\n",
      "  1.66067213e-04 4.13127673e-05]\n",
      " [4.86671805e-01 3.31884235e-01 1.34030789e-01 3.60895954e-02\n",
      "  8.01404472e-03 3.30949086e-03]\n",
      " [2.69154552e-02 8.40283036e-02 4.30868715e-01 2.91167289e-01\n",
      "  1.13447964e-01 5.35722822e-02]\n",
      " [5.22656250e-04 2.56043859e-03 5.41387983e-02 2.75412589e-01\n",
      "  3.39596599e-01 3.27768952e-01]\n",
      " [7.05342654e-06 6.38939091e-05 5.09023247e-03 1.11399256e-01\n",
      "  3.24610978e-01 5.58828592e-01]\n",
      " [1.06382373e-07 1.87612818e-06 5.71480894e-04 4.59592976e-02\n",
      "  2.54164129e-01 6.99303150e-01]\n",
      " [9.11213815e-01 8.00452754e-02 7.65473023e-03 9.81414923e-04\n",
      "  8.56570405e-05 1.91166782e-05]\n",
      " [4.74697649e-01 3.40331733e-01 1.37828574e-01 3.60165983e-02\n",
      "  7.91201182e-03 3.21357953e-03]\n",
      " [2.86899842e-02 9.30048376e-02 4.56831872e-01 2.73690790e-01\n",
      "  1.02073260e-01 4.57093343e-02]\n",
      " [4.51769127e-04 2.48017302e-03 5.75150810e-02 2.91930556e-01\n",
      "  3.41366142e-01 3.06256294e-01]\n",
      " [5.94215226e-06 5.95469246e-05 5.34013240e-03 1.18166052e-01\n",
      "  3.33976388e-01 5.42451978e-01]\n",
      " [1.06918414e-07 2.04116736e-06 6.73946110e-04 5.18172234e-02\n",
      "  2.69712150e-01 6.77794456e-01]\n",
      " [9.57279503e-01 4.01997678e-02 2.30734376e-03 2.00512150e-04\n",
      "  1.10462515e-05 1.84545956e-06]\n",
      " [4.76609617e-01 3.55563015e-01 1.32850364e-01 2.80150864e-02\n",
      "  5.16832341e-03 1.79361401e-03]\n",
      " [1.43605797e-02 5.86521029e-02 4.27821428e-01 3.13458562e-01\n",
      "  1.28373355e-01 5.73341362e-02]\n",
      " [3.01792112e-04 2.12532887e-03 6.22956604e-02 3.12000483e-01\n",
      "  3.43744725e-01 2.79531866e-01]\n",
      " [2.99006979e-06 4.12085210e-05 5.19408286e-03 1.27515018e-01\n",
      "  3.48267883e-01 5.18978775e-01]\n",
      " [3.97059559e-08 1.08113659e-06 5.50133758e-04 5.24851717e-02\n",
      "  2.81237543e-01 6.65726066e-01]\n",
      " [9.60230529e-01 3.75457779e-02 2.04307167e-03 1.70230152e-04\n",
      "  8.93236029e-06 1.44575131e-06]\n",
      " [4.83244956e-01 3.54527593e-01 1.29448950e-01 2.64393650e-02\n",
      "  4.73427912e-03 1.60478812e-03]\n",
      " [1.33891506e-02 5.60556687e-02 4.26151633e-01 3.16573024e-01\n",
      "  1.30006865e-01 5.78235500e-02]\n",
      " [2.79921165e-04 2.03105947e-03 6.18164055e-02 3.12471867e-01\n",
      "  3.45053643e-01 2.78347045e-01]\n",
      " [2.74729928e-06 3.89141933e-05 5.09322295e-03 1.27149478e-01\n",
      "  3.48740101e-01 5.18975437e-01]\n",
      " [3.34311316e-08 9.46299906e-07 5.13344072e-04 5.12443222e-02\n",
      "  2.79951274e-01 6.68290019e-01]\n",
      " [9.62685287e-01 3.53259929e-02 1.83324050e-03 1.47103769e-04\n",
      "  7.38655399e-06 1.16270473e-06]\n",
      " [4.87289548e-01 3.54350477e-01 1.27254292e-01 2.52472106e-02\n",
      "  4.39862208e-03 1.45979272e-03]\n",
      " [1.27753979e-02 5.44716232e-02 4.27398562e-01 3.17821413e-01\n",
      "  1.30091712e-01 5.74412830e-02]\n",
      " [2.68268894e-04 1.98892225e-03 6.19301274e-02 3.13341171e-01\n",
      "  3.45785916e-01 2.76685566e-01]\n",
      " [2.62846243e-06 3.80140373e-05 5.09086344e-03 1.27577320e-01\n",
      "  3.49758029e-01 5.17533064e-01]\n",
      " [3.00725809e-08 8.78096614e-07 4.98138077e-04 5.09678163e-02\n",
      "  2.80107051e-01 6.68426037e-01]\n",
      " [9.65291202e-01 3.29561494e-02 1.62113446e-03 1.24670158e-04\n",
      "  5.95460460e-06 9.08178663e-07]\n",
      " [4.90971982e-01 3.54215115e-01 1.25252545e-01 2.41408274e-02\n",
      "  4.09005210e-03 1.32939266e-03]\n",
      " [1.22994464e-02 5.32183759e-02 4.29886311e-01 3.18357587e-01\n",
      "  1.29495159e-01 5.67431077e-02]\n",
      " [2.56984611e-04 1.94663776e-03 6.19988069e-02 3.14177573e-01\n",
      "  3.46480757e-01 2.75139242e-01]\n",
      " [2.52610175e-06 3.73258736e-05 5.11176791e-03 1.28273815e-01\n",
      "  3.51002723e-01 5.15571833e-01]\n",
      " [2.85662409e-08 8.53493134e-07 4.97914909e-04 5.12936786e-02\n",
      "  2.81466305e-01 6.66741133e-01]\n",
      " [9.74117756e-01 2.48383414e-02 9.78514785e-04 6.27302870e-05\n",
      "  2.43082150e-06 3.25647221e-07]\n",
      " [5.06098211e-01 3.54565173e-01 1.16468154e-01 1.92192569e-02\n",
      "  2.82525038e-03 8.23910639e-04]\n",
      " [1.05939256e-02 4.97643612e-02 4.62991178e-01 3.10969710e-01\n",
      "  1.17384776e-01 4.82960679e-02]\n",
      " [1.85948113e-04 1.61176350e-03 6.11018278e-02 3.20868582e-01\n",
      "  3.50526601e-01 2.65705347e-01]\n",
      " [2.09684026e-06 3.47822534e-05 5.41299535e-03 1.35220796e-01\n",
      "  3.59915704e-01 4.99413580e-01]\n",
      " [2.25178507e-08 7.52042752e-07 5.00358816e-04 5.26818112e-02\n",
      "  2.88472027e-01 6.58344984e-01]\n",
      " [9.79041994e-01 2.02485211e-02 6.70808426e-04 3.72039249e-05\n",
      "  1.22169979e-06 1.48469724e-07]\n",
      " [5.12080610e-01 3.56950939e-01 1.11888990e-01 1.63504314e-02\n",
      "  2.15212791e-03 5.76819060e-04]\n",
      " [9.28131212e-03 4.68165651e-02 4.89724398e-01 3.03477257e-01\n",
      "  1.08276665e-01 4.24237251e-02]\n",
      " [1.49073268e-04 1.43760908e-03 6.30719960e-02 3.30625266e-01\n",
      "  3.52126956e-01 2.52589077e-01]\n",
      " [1.79806989e-06 3.28187234e-05 5.73618477e-03 1.42089680e-01\n",
      "  3.68021458e-01 4.84118074e-01]\n",
      " [1.83074196e-08 6.72298825e-07 5.01338334e-04 5.39043993e-02\n",
      "  2.94217676e-01 6.51375830e-01]\n",
      " [9.81238604e-01 1.81787014e-02 5.52894489e-04 2.86271079e-05\n",
      "  8.69101939e-07 1.00557408e-07]\n",
      " [5.22302091e-01 3.53344113e-01 1.06970899e-01 1.49924885e-02\n",
      "  1.89650629e-03 4.93842817e-04]\n",
      " [9.22541693e-03 4.73103672e-02 5.04230917e-01 2.97445685e-01\n",
      "  1.02544852e-01 3.92427742e-02]\n",
      " [1.37450057e-04 1.36530725e-03 6.29386529e-02 3.31860602e-01\n",
      "  3.53086352e-01 2.50611484e-01]\n",
      " [1.70028727e-06 3.19063802e-05 5.77525189e-03 1.43559501e-01\n",
      "  3.69773448e-01 4.80858117e-01]\n",
      " [1.74913435e-08 6.57513795e-07 5.05408505e-04 5.44755124e-02\n",
      "  2.95988619e-01 6.49029851e-01]\n",
      " [9.87656653e-01 1.20830843e-02 2.50875077e-04 9.19895501e-06\n",
      "  1.91813001e-07 1.78244832e-08]\n",
      " [5.51198602e-01 3.46936107e-01 9.12475660e-02 9.50552337e-03\n",
      "  9.16654943e-04 1.95558736e-04]\n",
      " [8.00314546e-03 4.80079949e-02 5.94267607e-01 2.56695896e-01\n",
      "  7.01291934e-02 2.28961278e-02]\n",
      " [1.15176961e-04 1.34861388e-03 8.01706463e-02 3.60440195e-01\n",
      "  3.47557634e-01 2.10367680e-01]\n",
      " [1.06304356e-06 2.49209661e-05 6.11162605e-03 1.57230496e-01\n",
      "  3.85794818e-01 4.50837165e-01]\n",
      " [1.32039206e-08 6.03626063e-07 5.86879032e-04 6.15605973e-02\n",
      "  3.18085611e-01 6.19766176e-01]\n",
      " [9.89407420e-01 1.04008848e-02 1.85654586e-04 5.90359105e-06\n",
      "  1.05992974e-07 8.97250718e-09]\n",
      " [5.63356578e-01 3.43360275e-01 8.47613662e-02 7.73461536e-03\n",
      "  6.58868870e-04 1.28261730e-04]\n",
      " [7.52380863e-03 4.81669828e-02 6.28748417e-01 2.38991305e-01\n",
      "  5.86702041e-02 1.78992245e-02]\n",
      " [1.13186674e-04 1.41999580e-03 9.37682763e-02 3.77626777e-01\n",
      "  3.38463545e-01 1.88608184e-01]\n",
      " [8.70107840e-07 2.25210315e-05 6.32802723e-03 1.64470762e-01\n",
      "  3.93215656e-01 4.35962111e-01]\n",
      " [1.08093001e-08 5.43614931e-07 6.08316448e-04 6.44758344e-02\n",
      "  3.27299505e-01 6.07615769e-01]\n",
      " [9.90920246e-01 8.94143712e-03 1.34622416e-04 3.61848038e-06\n",
      "  5.48859553e-08 4.13985557e-09]\n",
      " [5.77434123e-01 3.38542610e-01 7.75196999e-02 5.99169731e-03\n",
      "  4.36168251e-04 7.57271628e-05]\n",
      " [7.17638107e-03 4.95266207e-02 6.69709563e-01 2.15267420e-01\n",
      "  4.56143767e-02 1.27054965e-02]\n",
      " [1.11154761e-04 1.52433640e-03 1.15255475e-01 3.99720073e-01\n",
      "  3.22012126e-01 1.61376789e-01]\n",
      " [7.89408148e-07 2.23647730e-05 7.19211437e-03 1.78366721e-01\n",
      "  4.04355794e-01 4.10062134e-01]\n",
      " [8.16037193e-09 4.64417610e-07 6.22018939e-04 6.75686374e-02\n",
      "  3.37529063e-01 5.94279766e-01]\n",
      " [9.85937357e-01 1.38019351e-02 2.53111008e-04 7.45898114e-06\n",
      "  1.31986653e-07 1.06706119e-08]\n",
      " [5.92087626e-01 3.31848711e-01 7.07605854e-02 4.92801378e-03\n",
      "  3.22950509e-04 5.21857110e-05]\n",
      " [7.90877361e-03 5.61251044e-02 7.00067043e-01 1.91054001e-01\n",
      "  3.55826169e-02 9.26245283e-03]\n",
      " [1.39980068e-04 1.95336179e-03 1.45532891e-01 4.14586157e-01\n",
      "  3.00109595e-01 1.37677997e-01]\n",
      " [1.33593812e-06 3.63796426e-05 1.05403652e-02 2.06491321e-01\n",
      "  4.12973970e-01 3.69956642e-01]\n",
      " [1.26432314e-08 7.08471418e-07 8.61371809e-04 7.88948834e-02\n",
      "  3.55231553e-01 5.65011382e-01]\n",
      " [9.92200613e-01 7.71057373e-03 8.72264281e-05 1.70535270e-06\n",
      "  1.94275636e-08 1.16488819e-09]\n",
      " [5.96415699e-01 3.33277434e-01 6.64947629e-02 3.59953358e-03\n",
      "  1.87194062e-04 2.53858143e-05]\n",
      " [6.65832032e-03 5.38173988e-02 7.47865856e-01 1.62300691e-01\n",
      "  2.39547342e-02 5.40298503e-03]\n",
      " [1.09819361e-04 1.79544499e-03 1.76339939e-01 4.37711179e-01\n",
      "  2.72820652e-01 1.11222982e-01]\n",
      " [8.69259566e-07 2.87467483e-05 1.16652735e-02 2.23273858e-01\n",
      "  4.24426675e-01 3.40604544e-01]\n",
      " [6.46672982e-09 4.52772071e-07 7.83268479e-04 8.07853639e-02\n",
      "  3.68340462e-01 5.50090373e-01]\n",
      " [9.94588435e-01 5.36747975e-03 4.35472539e-05 6.34627725e-07\n",
      "  5.27693134e-09 2.54901239e-10]\n",
      " [6.31345212e-01 3.12753588e-01 5.34973517e-02 2.29717698e-03\n",
      "  9.55641153e-05 1.09994417e-05]\n",
      " [6.47627888e-03 5.68832122e-02 7.83868253e-01 1.33924320e-01\n",
      "  1.57285910e-02 3.11932690e-03]\n",
      " [9.99791155e-05 1.82940811e-03 2.17005923e-01 4.54161793e-01\n",
      "  2.39796311e-01 8.71065930e-02]\n",
      " [8.10952145e-07 3.06216461e-05 1.52441710e-02 2.51677185e-01\n",
      "  4.31765258e-01 3.01282048e-01]\n",
      " [4.61739846e-09 3.73241420e-07 8.09551449e-04 8.50686580e-02\n",
      "  3.83839697e-01 5.30281782e-01]\n",
      " [9.92932379e-01 7.00361235e-03 6.31395378e-05 9.50613980e-07\n",
      "  8.44489456e-09 4.20568441e-10]\n",
      " [6.14700377e-01 3.25551450e-01 5.73357046e-02 2.31184112e-03\n",
      "  9.06944624e-05 9.99589065e-06]\n",
      " [6.61513861e-03 5.96254170e-02 7.93865144e-01 1.23991802e-01\n",
      "  1.33751044e-02 2.52737617e-03]\n",
      " [1.11096968e-04 2.06655497e-03 2.45997548e-01 4.56359565e-01\n",
      "  2.19930619e-01 7.55346045e-02]\n",
      " [9.34950322e-07 3.63820982e-05 1.84329990e-02 2.69329220e-01\n",
      "  4.32620049e-01 2.79580414e-01]\n",
      " [5.20133625e-09 4.32353119e-07 9.52394679e-04 9.22850147e-02\n",
      "  3.95599902e-01 5.11162281e-01]\n",
      " [9.93201852e-01 6.74396940e-03 5.33582679e-05 6.71684745e-07\n",
      "  5.10416509e-09 2.24634658e-10]\n",
      " [6.27567947e-01 3.19022894e-01 5.16395643e-02 1.70879008e-03\n",
      "  5.54489961e-05 5.31552178e-06]\n",
      " [6.76890276e-03 6.44985959e-02 8.17466080e-01 1.01174481e-01\n",
      "  8.65125284e-03 1.44066580e-03]\n",
      " [1.14171125e-04 2.31597712e-03 3.05568427e-01 4.54839230e-01\n",
      "  1.82100564e-01 5.50615899e-02]\n",
      " [9.80131517e-07 4.24947175e-05 2.49981005e-02 3.03352267e-01\n",
      "  4.30443764e-01 2.41162404e-01]\n",
      " [5.58481750e-09 5.05671039e-07 1.26445212e-03 1.07339628e-01\n",
      "  4.18031365e-01 4.73363966e-01]]\n"
     ]
    }
   ],
   "source": [
    "encoded_x_train = model.predict(x_train)\n",
    "encoded_x_test = model.predict(x_test)\n",
    "\n",
    "print(\"Encoded Train data:\")\n",
    "print(encoded_x_train)\n",
    "print(\"Encoded Test data:\")\n",
    "print(encoded_x_test)"
   ]
  },
  {
   "cell_type": "code",
   "execution_count": 148,
   "metadata": {
    "colab": {
     "base_uri": "https://localhost:8080/",
     "height": 490
    },
    "executionInfo": {
     "elapsed": 879,
     "status": "ok",
     "timestamp": 1685845254560,
     "user": {
      "displayName": "당호연",
      "userId": "00443455778656844380"
     },
     "user_tz": -540
    },
    "id": "p2SjeXOKMI-1",
    "outputId": "f5fd01e9-2ff5-4ee8-bf9e-9e7be1f68a07"
   },
   "outputs": [
    {
     "data": {
      "text/plain": [
       "Text(0, 0.5, 'Accuracy')"
      ]
     },
     "execution_count": 148,
     "metadata": {},
     "output_type": "execute_result"
    },
    {
     "data": {
      "image/png": "[encoded data removed]",
      "text/plain": [
       "<Figure size 640x480 with 1 Axes>"
      ]
     },
     "metadata": {},
     "output_type": "display_data"
    }
   ],
   "source": [
    "import matplotlib.pyplot as plt\n",
    "plt.plot(model_history.history['accuracy'])\n",
    "plt.plot(model_history.history['val_accuracy'])\n",
    "plt.legend([\"accuracy\",\"val_accuracy\"])\n",
    "plt.title('Accuracy Vs Val_Accuracy')\n",
    "plt.xlabel('Epoch')\n",
    "plt.ylabel('Accuracy')"
   ]
  },
  {
   "cell_type": "code",
   "execution_count": 149,
   "metadata": {
    "colab": {
     "base_uri": "https://localhost:8080/",
     "height": 490
    },
    "executionInfo": {
     "elapsed": 682,
     "status": "ok",
     "timestamp": 1685845257717,
     "user": {
      "displayName": "당호연",
      "userId": "00443455778656844380"
     },
     "user_tz": -540
    },
    "id": "Ezi5Q38BMcyv",
    "outputId": "7d2b75a0-0283-4a7b-9584-1f469bcdf5f1"
   },
   "outputs": [
    {
     "data": {
      "text/plain": [
       "Text(0, 0.5, 'Loss')"
      ]
     },
     "execution_count": 149,
     "metadata": {},
     "output_type": "execute_result"
    },
    {
     "data": {
      "image/png": "[encoded data removed]",
      "text/plain": [
       "<Figure size 640x480 with 1 Axes>"
      ]
     },
     "metadata": {},
     "output_type": "display_data"
    }
   ],
   "source": [
    "plt.plot(model_history.history['loss'])\n",
    "plt.plot(model_history.history['val_loss'])\n",
    "plt.legend([\"loss\",\"val_loss\"])\n",
    "plt.title('Loss Vs Val_loss')\n",
    "plt.xlabel('Epoch')\n",
    "plt.ylabel('Loss')"
   ]
  }
 ],
 "metadata": {
  "colab": {
   "authorship_tag": "ABX9TyMHpeYBXkahACxhO6cRmdja",
   "mount_file_id": "19QCGZs_1NHLSFCViZgmrpdkMsd71ZXNa",
   "provenance": []
  },
  "kernelspec": {
   "display_name": "Python 3 (ipykernel)",
   "language": "python",
   "name": "python3"
  },
  "language_info": {
   "codemirror_mode": {
    "name": "ipython",
    "version": 3
   },
   "file_extension": ".py",
   "mimetype": "text/x-python",
   "name": "python",
   "nbconvert_exporter": "python",
   "pygments_lexer": "ipython3",
   "version": "3.9.15"
  }
 },
 "nbformat": 4,
 "nbformat_minor": 1
}
