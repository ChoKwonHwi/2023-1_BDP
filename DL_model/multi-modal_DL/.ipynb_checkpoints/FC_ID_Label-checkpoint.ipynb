{
 "cells": [
  {
   "cell_type": "code",
   "execution_count": 100,
   "id": "e2ed355e",
   "metadata": {},
   "outputs": [],
   "source": [
    "import pandas as pd\n",
    "from sklearn.preprocessing import LabelEncoder\n",
    "\n",
    "df = pd.read_csv('./sub_id3.csv')"
   ]
  },
  {
   "cell_type": "code",
   "execution_count": 101,
   "id": "7d3dc727",
   "metadata": {},
   "outputs": [],
   "source": [
    "label_encoder = LabelEncoder()\n",
    "df['ID_encoded'] = label_encoder.fit_transform(df['sub_id'])"
   ]
  },
  {
   "cell_type": "code",
   "execution_count": 102,
   "id": "841e28b0",
   "metadata": {},
   "outputs": [
    {
     "name": "stdout",
     "output_type": "stream",
     "text": [
      "2.10.0\n"
     ]
    }
   ],
   "source": [
    "# embedding layer 생성\n",
    "\n",
    "import tensorflow as tf\n",
    "from tensorflow.keras.layers import Embedding\n",
    "print(tf.__version__)\n",
    "\n",
    "n_unique_ids = df['ID_encoded'].nunique()\n",
    "embedding_dim = min(n_unique_ids // 2, 50)  # 임베딩 차원 설정. 보통은 고유 ID의 수의 절반 혹은 50을 선택\n",
    "\n",
    "embedding_layer = Embedding(input_dim=n_unique_ids, \n",
    "                            output_dim=embedding_dim, \n",
    "                            input_length=1, \n",
    "                            name='ID_embedding')"
   ]
  },
  {
   "cell_type": "code",
   "execution_count": 103,
   "id": "898ee720",
   "metadata": {},
   "outputs": [
    {
     "data": {
      "text/html": [
       "<div>\n",
       "<style scoped>\n",
       "    .dataframe tbody tr th:only-of-type {\n",
       "        vertical-align: middle;\n",
       "    }\n",
       "\n",
       "    .dataframe tbody tr th {\n",
       "        vertical-align: top;\n",
       "    }\n",
       "\n",
       "    .dataframe thead th {\n",
       "        text-align: right;\n",
       "    }\n",
       "</style>\n",
       "<table border=\"1\" class=\"dataframe\">\n",
       "  <thead>\n",
       "    <tr style=\"text-align: right;\">\n",
       "      <th></th>\n",
       "      <th>sub_id</th>\n",
       "      <th>ID_encoded</th>\n",
       "    </tr>\n",
       "  </thead>\n",
       "  <tbody>\n",
       "    <tr>\n",
       "      <th>0</th>\n",
       "      <td>1</td>\n",
       "      <td>0</td>\n",
       "    </tr>\n",
       "    <tr>\n",
       "      <th>1</th>\n",
       "      <td>1</td>\n",
       "      <td>0</td>\n",
       "    </tr>\n",
       "    <tr>\n",
       "      <th>2</th>\n",
       "      <td>1</td>\n",
       "      <td>0</td>\n",
       "    </tr>\n",
       "    <tr>\n",
       "      <th>3</th>\n",
       "      <td>1</td>\n",
       "      <td>0</td>\n",
       "    </tr>\n",
       "    <tr>\n",
       "      <th>4</th>\n",
       "      <td>1</td>\n",
       "      <td>0</td>\n",
       "    </tr>\n",
       "    <tr>\n",
       "      <th>...</th>\n",
       "      <td>...</td>\n",
       "      <td>...</td>\n",
       "    </tr>\n",
       "    <tr>\n",
       "      <th>229</th>\n",
       "      <td>78</td>\n",
       "      <td>38</td>\n",
       "    </tr>\n",
       "    <tr>\n",
       "      <th>230</th>\n",
       "      <td>78</td>\n",
       "      <td>38</td>\n",
       "    </tr>\n",
       "    <tr>\n",
       "      <th>231</th>\n",
       "      <td>78</td>\n",
       "      <td>38</td>\n",
       "    </tr>\n",
       "    <tr>\n",
       "      <th>232</th>\n",
       "      <td>78</td>\n",
       "      <td>38</td>\n",
       "    </tr>\n",
       "    <tr>\n",
       "      <th>233</th>\n",
       "      <td>78</td>\n",
       "      <td>38</td>\n",
       "    </tr>\n",
       "  </tbody>\n",
       "</table>\n",
       "<p>234 rows × 2 columns</p>\n",
       "</div>"
      ],
      "text/plain": [
       "     sub_id  ID_encoded\n",
       "0         1           0\n",
       "1         1           0\n",
       "2         1           0\n",
       "3         1           0\n",
       "4         1           0\n",
       "..      ...         ...\n",
       "229      78          38\n",
       "230      78          38\n",
       "231      78          38\n",
       "232      78          38\n",
       "233      78          38\n",
       "\n",
       "[234 rows x 2 columns]"
      ]
     },
     "execution_count": 103,
     "metadata": {},
     "output_type": "execute_result"
    }
   ],
   "source": [
    "df"
   ]
  },
  {
   "cell_type": "code",
   "execution_count": 111,
   "id": "49ff8d1a",
   "metadata": {},
   "outputs": [],
   "source": [
    "# 임베딩 레이어를 통과하여 벡터 생성 후, Flatten 적용\n",
    "\n",
    "from tensorflow.keras.layers import Flatten\n",
    "\n",
    "# 데이터를 모델에 넣을 수 있는 형태로 변환\n",
    "input_data = df['ID_encoded'].values.reshape(-1, 1)\n",
    "\n",
    "# 임베딩 레이어를 통과\n",
    "embedded_data = embedding_layer(input_data)\n",
    "\n",
    "# Flatten the output to enable concatenation\n",
    "sub_id_input = Flatten()(embedded_data)"
   ]
  },
  {
   "cell_type": "code",
   "execution_count": 112,
   "id": "dd5a05a9",
   "metadata": {},
   "outputs": [
    {
     "data": {
      "text/plain": [
       "<tf.Tensor: shape=(234, 19), dtype=float32, numpy=\n",
       "array([[-0.01108814,  0.02162075, -0.00984674, ...,  0.04328972,\n",
       "         0.04844919, -0.02203841],\n",
       "       [-0.01108814,  0.02162075, -0.00984674, ...,  0.04328972,\n",
       "         0.04844919, -0.02203841],\n",
       "       [-0.01108814,  0.02162075, -0.00984674, ...,  0.04328972,\n",
       "         0.04844919, -0.02203841],\n",
       "       ...,\n",
       "       [-0.02805481,  0.04661782, -0.02734996, ...,  0.03892246,\n",
       "         0.02535753,  0.04679164],\n",
       "       [-0.02805481,  0.04661782, -0.02734996, ...,  0.03892246,\n",
       "         0.02535753,  0.04679164],\n",
       "       [-0.02805481,  0.04661782, -0.02734996, ...,  0.03892246,\n",
       "         0.02535753,  0.04679164]], dtype=float32)>"
      ]
     },
     "execution_count": 112,
     "metadata": {},
     "output_type": "execute_result"
    }
   ],
   "source": [
    "sub_id_input"
   ]
  },
  {
   "cell_type": "code",
   "execution_count": 113,
   "id": "3c7d44f2",
   "metadata": {},
   "outputs": [
    {
     "data": {
      "text/plain": [
       "<tf.Tensor: shape=(1, 234), dtype=float32, numpy=\n",
       "array([[0.        , 0.        , 0.04311332, 0.        , 0.0620982 ,\n",
       "        0.00656068, 0.        , 0.        , 0.04098495, 0.02249741,\n",
       "        0.        , 0.        , 0.00425776, 0.        , 0.07535933,\n",
       "        0.04187788, 0.        , 0.        , 0.01800788, 0.01006536,\n",
       "        0.        , 0.00188536, 0.0346393 , 0.00679357, 0.        ,\n",
       "        0.0220927 , 0.04153457, 0.01289266, 0.00682935, 0.        ,\n",
       "        0.06127568, 0.        , 0.        , 0.07817505, 0.        ,\n",
       "        0.02133018, 0.0013867 , 0.        , 0.05107975, 0.0297545 ,\n",
       "        0.        , 0.0557247 , 0.        , 0.03222594, 0.01993659,\n",
       "        0.02660815, 0.        , 0.00136963, 0.        , 0.        ,\n",
       "        0.01962035, 0.05717619, 0.02984809, 0.        , 0.        ,\n",
       "        0.06396039, 0.00223971, 0.01237554, 0.        , 0.03128192,\n",
       "        0.02723566, 0.01407567, 0.07141528, 0.03515057, 0.00953469,\n",
       "        0.02121177, 0.02629533, 0.01069603, 0.        , 0.01388218,\n",
       "        0.        , 0.        , 0.        , 0.00622961, 0.0346825 ,\n",
       "        0.        , 0.03053371, 0.06945584, 0.        , 0.        ,\n",
       "        0.04459864, 0.        , 0.        , 0.        , 0.00521307,\n",
       "        0.02315716, 0.        , 0.        , 0.        , 0.        ,\n",
       "        0.        , 0.        , 0.        , 0.        , 0.01625515,\n",
       "        0.        , 0.05533414, 0.        , 0.        , 0.        ,\n",
       "        0.        , 0.01751628, 0.02268056, 0.02785129, 0.02336498,\n",
       "        0.03985778, 0.00934367, 0.        , 0.10731672, 0.04398635,\n",
       "        0.00713376, 0.07761651, 0.04742455, 0.        , 0.02670553,\n",
       "        0.05746507, 0.02466042, 0.        , 0.        , 0.        ,\n",
       "        0.        , 0.02149566, 0.06656332, 0.        , 0.        ,\n",
       "        0.02845737, 0.        , 0.        , 0.0139482 , 0.        ,\n",
       "        0.06389911, 0.        , 0.04616213, 0.        , 0.        ,\n",
       "        0.        , 0.        , 0.02465933, 0.03862655, 0.02285716,\n",
       "        0.        , 0.01215735, 0.05712485, 0.01823687, 0.        ,\n",
       "        0.        , 0.        , 0.02884137, 0.        , 0.02116597,\n",
       "        0.        , 0.        , 0.00597883, 0.05145576, 0.02267894,\n",
       "        0.        , 0.01524056, 0.        , 0.00444035, 0.01691761,\n",
       "        0.        , 0.0270568 , 0.02460312, 0.02379213, 0.        ,\n",
       "        0.06229419, 0.        , 0.04062416, 0.        , 0.        ,\n",
       "        0.04740482, 0.04232522, 0.        , 0.06514883, 0.        ,\n",
       "        0.        , 0.00827783, 0.        , 0.        , 0.07235383,\n",
       "        0.02177207, 0.        , 0.01998451, 0.03493039, 0.        ,\n",
       "        0.03098908, 0.03420521, 0.02245127, 0.        , 0.0368626 ,\n",
       "        0.05257002, 0.00541834, 0.01415418, 0.        , 0.0066419 ,\n",
       "        0.000334  , 0.00297702, 0.        , 0.        , 0.        ,\n",
       "        0.00355018, 0.02970127, 0.02305891, 0.0384988 , 0.        ,\n",
       "        0.01730416, 0.        , 0.        , 0.03624598, 0.        ,\n",
       "        0.        , 0.        , 0.02682148, 0.0123992 , 0.04289196,\n",
       "        0.02516094, 0.        , 0.        , 0.        , 0.        ,\n",
       "        0.05454286, 0.        , 0.        , 0.        , 0.        ,\n",
       "        0.        , 0.        , 0.00993056, 0.00609555, 0.        ,\n",
       "        0.        , 0.02599377, 0.02695922, 0.        ]], dtype=float32)>"
      ]
     },
     "execution_count": 113,
     "metadata": {},
     "output_type": "execute_result"
    }
   ],
   "source": [
    "model = tf.keras.models.Sequential([\n",
    "    tf.keras.layers.Flatten(input_shape=(234, 19)), \n",
    "    tf.keras.layers.Dense(234, activation='relu'),     \n",
    "    #tf.keras.layers.Dense(64, activation='relu'), \n",
    "    #tf.keras.layers.Dense(10, activation='softmax') \n",
    "    tf.keras.layers.Flatten()\n",
    "])\n",
    "sub_id_input = tf.expand_dims(sub_id_input, axis = 0)\n",
    "output = model(sub_id_input)\n",
    "output"
   ]
  },
  {
   "cell_type": "code",
   "execution_count": 115,
   "id": "b9ca5ec9",
   "metadata": {},
   "outputs": [
    {
     "data": {
      "text/html": [
       "<div>\n",
       "<style scoped>\n",
       "    .dataframe tbody tr th:only-of-type {\n",
       "        vertical-align: middle;\n",
       "    }\n",
       "\n",
       "    .dataframe tbody tr th {\n",
       "        vertical-align: top;\n",
       "    }\n",
       "\n",
       "    .dataframe thead th {\n",
       "        text-align: right;\n",
       "    }\n",
       "</style>\n",
       "<table border=\"1\" class=\"dataframe\">\n",
       "  <thead>\n",
       "    <tr style=\"text-align: right;\">\n",
       "      <th></th>\n",
       "      <th>sub_id</th>\n",
       "    </tr>\n",
       "  </thead>\n",
       "  <tbody>\n",
       "    <tr>\n",
       "      <th>0</th>\n",
       "      <td>0.000000</td>\n",
       "    </tr>\n",
       "    <tr>\n",
       "      <th>1</th>\n",
       "      <td>0.000000</td>\n",
       "    </tr>\n",
       "    <tr>\n",
       "      <th>2</th>\n",
       "      <td>0.043113</td>\n",
       "    </tr>\n",
       "    <tr>\n",
       "      <th>3</th>\n",
       "      <td>0.000000</td>\n",
       "    </tr>\n",
       "    <tr>\n",
       "      <th>4</th>\n",
       "      <td>0.062098</td>\n",
       "    </tr>\n",
       "    <tr>\n",
       "      <th>...</th>\n",
       "      <td>...</td>\n",
       "    </tr>\n",
       "    <tr>\n",
       "      <th>229</th>\n",
       "      <td>0.000000</td>\n",
       "    </tr>\n",
       "    <tr>\n",
       "      <th>230</th>\n",
       "      <td>0.000000</td>\n",
       "    </tr>\n",
       "    <tr>\n",
       "      <th>231</th>\n",
       "      <td>0.025994</td>\n",
       "    </tr>\n",
       "    <tr>\n",
       "      <th>232</th>\n",
       "      <td>0.026959</td>\n",
       "    </tr>\n",
       "    <tr>\n",
       "      <th>233</th>\n",
       "      <td>0.000000</td>\n",
       "    </tr>\n",
       "  </tbody>\n",
       "</table>\n",
       "<p>234 rows × 1 columns</p>\n",
       "</div>"
      ],
      "text/plain": [
       "       sub_id\n",
       "0    0.000000\n",
       "1    0.000000\n",
       "2    0.043113\n",
       "3    0.000000\n",
       "4    0.062098\n",
       "..        ...\n",
       "229  0.000000\n",
       "230  0.000000\n",
       "231  0.025994\n",
       "232  0.026959\n",
       "233  0.000000\n",
       "\n",
       "[234 rows x 1 columns]"
      ]
     },
     "execution_count": 115,
     "metadata": {},
     "output_type": "execute_result"
    }
   ],
   "source": [
    "pd.DataFrame(tf.reshape(output, [234,1]).numpy(), columns = ['sub_id'])"
   ]
  },
  {
   "cell_type": "code",
   "execution_count": 72,
   "id": "7eac4a28",
   "metadata": {},
   "outputs": [
    {
     "data": {
      "text/html": [
       "<div>\n",
       "<style scoped>\n",
       "    .dataframe tbody tr th:only-of-type {\n",
       "        vertical-align: middle;\n",
       "    }\n",
       "\n",
       "    .dataframe tbody tr th {\n",
       "        vertical-align: top;\n",
       "    }\n",
       "\n",
       "    .dataframe thead th {\n",
       "        text-align: right;\n",
       "    }\n",
       "</style>\n",
       "<table border=\"1\" class=\"dataframe\">\n",
       "  <thead>\n",
       "    <tr style=\"text-align: right;\">\n",
       "      <th></th>\n",
       "      <th>video_id</th>\n",
       "    </tr>\n",
       "  </thead>\n",
       "  <tbody>\n",
       "    <tr>\n",
       "      <th>0</th>\n",
       "      <td>neutral</td>\n",
       "    </tr>\n",
       "    <tr>\n",
       "      <th>1</th>\n",
       "      <td>disgust</td>\n",
       "    </tr>\n",
       "    <tr>\n",
       "      <th>2</th>\n",
       "      <td>fear</td>\n",
       "    </tr>\n",
       "    <tr>\n",
       "      <th>3</th>\n",
       "      <td>sad</td>\n",
       "    </tr>\n",
       "    <tr>\n",
       "      <th>4</th>\n",
       "      <td>happy</td>\n",
       "    </tr>\n",
       "    <tr>\n",
       "      <th>...</th>\n",
       "      <td>...</td>\n",
       "    </tr>\n",
       "    <tr>\n",
       "      <th>229</th>\n",
       "      <td>disgust</td>\n",
       "    </tr>\n",
       "    <tr>\n",
       "      <th>230</th>\n",
       "      <td>anger</td>\n",
       "    </tr>\n",
       "    <tr>\n",
       "      <th>231</th>\n",
       "      <td>sad</td>\n",
       "    </tr>\n",
       "    <tr>\n",
       "      <th>232</th>\n",
       "      <td>happy</td>\n",
       "    </tr>\n",
       "    <tr>\n",
       "      <th>233</th>\n",
       "      <td>fear</td>\n",
       "    </tr>\n",
       "  </tbody>\n",
       "</table>\n",
       "<p>234 rows × 1 columns</p>\n",
       "</div>"
      ],
      "text/plain": [
       "    video_id\n",
       "0    neutral\n",
       "1    disgust\n",
       "2       fear\n",
       "3        sad\n",
       "4      happy\n",
       "..       ...\n",
       "229  disgust\n",
       "230    anger\n",
       "231      sad\n",
       "232    happy\n",
       "233     fear\n",
       "\n",
       "[234 rows x 1 columns]"
      ]
     },
     "execution_count": 72,
     "metadata": {},
     "output_type": "execute_result"
    }
   ],
   "source": [
    "# 데이터 불러오기\n",
    "import pandas as pd\n",
    "\n",
    "df = pd.read_csv('./video_id.csv')\n",
    "df"
   ]
  },
  {
   "cell_type": "code",
   "execution_count": 89,
   "id": "7b454998",
   "metadata": {},
   "outputs": [
    {
     "data": {
      "text/plain": [
       "(234, 6)"
      ]
     },
     "execution_count": 89,
     "metadata": {},
     "output_type": "execute_result"
    }
   ],
   "source": [
    "# OneHotEncoding\n",
    "from sklearn.preprocessing import OneHotEncoder\n",
    "\n",
    "# Initialize OneHotEncoder\n",
    "one_hot_encoder = OneHotEncoder()\n",
    "\n",
    "# Perform one-hot encoding\n",
    "one_hot_encoded = one_hot_encoder.fit_transform(df['video_id'].values.reshape(-1, 1))\n",
    "\n",
    "input_data = one_hot_encoded.toarray()\n",
    "# Convert the result back to a dataframe\n",
    "#df_encoded = pd.DataFrame(one_hot_encoded, columns=one_hot_encoder.categories_[0])\n",
    "\n",
    "# Convert df_encoded to a suitable input for Keras\n",
    "input_data.shape\n",
    "\n",
    "#video_id_input = df_encoded.values"
   ]
  },
  {
   "cell_type": "code",
   "execution_count": 92,
   "id": "66c14f8c",
   "metadata": {},
   "outputs": [],
   "source": [
    "input_data = tf.expand_dims(input_data, axis = 0)"
   ]
  },
  {
   "cell_type": "code",
   "execution_count": 93,
   "id": "2b1dc34d",
   "metadata": {},
   "outputs": [],
   "source": [
    "model = tf.keras.models.Sequential([\n",
    "    tf.keras.layers.Flatten(input_shape=(234, 6)), \n",
    "    tf.keras.layers.Dense(234, activation='relu'),     \n",
    "    #tf.keras.layers.Dense(64, activation='relu'), \n",
    "    #tf.keras.layers.Dense(10, activation='softmax') \n",
    "    tf.keras.layers.Flatten()\n",
    "])"
   ]
  },
  {
   "cell_type": "code",
   "execution_count": 94,
   "id": "759fb6f5",
   "metadata": {},
   "outputs": [
    {
     "name": "stdout",
     "output_type": "stream",
     "text": [
      "Model: \"sequential_10\"\n",
      "_________________________________________________________________\n",
      " Layer (type)                Output Shape              Param #   \n",
      "=================================================================\n",
      " flatten_15 (Flatten)        (None, 1404)              0         \n",
      "                                                                 \n",
      " dense_21 (Dense)            (None, 234)               328770    \n",
      "                                                                 \n",
      " flatten_16 (Flatten)        (None, 234)               0         \n",
      "                                                                 \n",
      "=================================================================\n",
      "Total params: 328,770\n",
      "Trainable params: 328,770\n",
      "Non-trainable params: 0\n",
      "_________________________________________________________________\n"
     ]
    }
   ],
   "source": [
    "model.summary()"
   ]
  },
  {
   "cell_type": "code",
   "execution_count": 95,
   "id": "2ff1f6f5",
   "metadata": {},
   "outputs": [],
   "source": [
    "output = model(input_data)"
   ]
  },
  {
   "cell_type": "code",
   "execution_count": 77,
   "id": "9a1004ad",
   "metadata": {
    "scrolled": true
   },
   "outputs": [
    {
     "data": {
      "text/plain": [
       "<tf.Tensor: shape=(1, 234), dtype=float32, numpy=\n",
       "array([[3.1379070e+00, 3.2347145e+00, 2.6562896e+00, 1.7469971e+00,\n",
       "        0.0000000e+00, 0.0000000e+00, 2.5904496e+00, 1.6534838e-01,\n",
       "        2.8007145e+00, 3.2431390e-02, 0.0000000e+00, 0.0000000e+00,\n",
       "        2.3693488e+00, 0.0000000e+00, 0.0000000e+00, 0.0000000e+00,\n",
       "        1.7011636e+00, 0.0000000e+00, 1.4164349e-01, 0.0000000e+00,\n",
       "        0.0000000e+00, 0.0000000e+00, 1.1440498e+00, 0.0000000e+00,\n",
       "        0.0000000e+00, 1.1055026e+00, 0.0000000e+00, 0.0000000e+00,\n",
       "        0.0000000e+00, 0.0000000e+00, 5.3963012e-01, 1.4307210e+00,\n",
       "        0.0000000e+00, 1.6683235e+00, 4.7304443e-01, 0.0000000e+00,\n",
       "        0.0000000e+00, 0.0000000e+00, 0.0000000e+00, 5.1353461e-01,\n",
       "        0.0000000e+00, 1.7246397e+00, 8.3070719e-01, 0.0000000e+00,\n",
       "        0.0000000e+00, 0.0000000e+00, 1.4753659e-01, 4.7397611e-01,\n",
       "        4.6141970e-01, 1.5112751e+00, 0.0000000e+00, 0.0000000e+00,\n",
       "        2.8712749e-01, 0.0000000e+00, 1.7582875e+00, 1.3748217e-01,\n",
       "        6.5511692e-01, 2.2379348e+00, 0.0000000e+00, 0.0000000e+00,\n",
       "        0.0000000e+00, 2.9504690e-01, 0.0000000e+00, 0.0000000e+00,\n",
       "        0.0000000e+00, 0.0000000e+00, 0.0000000e+00, 2.0579650e+00,\n",
       "        9.8995551e-02, 0.0000000e+00, 6.2055975e-01, 0.0000000e+00,\n",
       "        6.7373365e-01, 3.9259493e-02, 0.0000000e+00, 0.0000000e+00,\n",
       "        1.3378880e+00, 1.8308109e-01, 4.2621383e-01, 0.0000000e+00,\n",
       "        8.0318546e-01, 0.0000000e+00, 8.3163846e-01, 0.0000000e+00,\n",
       "        2.5619345e+00, 2.0042028e+00, 0.0000000e+00, 6.6632599e-01,\n",
       "        0.0000000e+00, 0.0000000e+00, 5.6218624e-01, 0.0000000e+00,\n",
       "        0.0000000e+00, 1.7383757e+00, 0.0000000e+00, 0.0000000e+00,\n",
       "        0.0000000e+00, 0.0000000e+00, 0.0000000e+00, 0.0000000e+00,\n",
       "        9.6287942e-01, 1.2305908e+00, 1.0416148e+00, 0.0000000e+00,\n",
       "        0.0000000e+00, 0.0000000e+00, 3.8845429e-01, 0.0000000e+00,\n",
       "        0.0000000e+00, 2.2150381e+00, 1.5816776e+00, 0.0000000e+00,\n",
       "        0.0000000e+00, 0.0000000e+00, 1.7191502e-01, 0.0000000e+00,\n",
       "        1.1170542e+00, 0.0000000e+00, 2.0713608e+00, 3.2600007e+00,\n",
       "        4.6110481e-01, 0.0000000e+00, 0.0000000e+00, 0.0000000e+00,\n",
       "        8.2203799e-01, 0.0000000e+00, 9.0469790e-01, 3.2184476e-01,\n",
       "        0.0000000e+00, 0.0000000e+00, 0.0000000e+00, 0.0000000e+00,\n",
       "        1.0891148e+00, 0.0000000e+00, 0.0000000e+00, 1.1047481e+00,\n",
       "        3.8675648e-01, 0.0000000e+00, 1.5566301e+00, 0.0000000e+00,\n",
       "        0.0000000e+00, 6.3153028e-02, 3.1373423e-01, 1.7354105e+00,\n",
       "        2.3617170e+00, 1.5087296e+00, 2.7335361e-03, 0.0000000e+00,\n",
       "        8.1713676e-01, 2.7521700e-01, 1.1567656e+00, 7.3907661e-01,\n",
       "        0.0000000e+00, 0.0000000e+00, 1.5620886e+00, 6.2108922e-01,\n",
       "        0.0000000e+00, 3.2753929e-01, 1.1305410e+00, 0.0000000e+00,\n",
       "        3.3714924e+00, 1.2378645e+00, 0.0000000e+00, 1.0742685e+00,\n",
       "        0.0000000e+00, 3.8143525e-01, 0.0000000e+00, 0.0000000e+00,\n",
       "        0.0000000e+00, 2.5810423e-01, 0.0000000e+00, 0.0000000e+00,\n",
       "        2.8871787e+00, 0.0000000e+00, 3.7872541e-01, 2.7046895e-01,\n",
       "        0.0000000e+00, 5.2327931e-02, 0.0000000e+00, 2.0563309e+00,\n",
       "        0.0000000e+00, 1.3398996e-01, 3.2138526e-01, 1.2522864e+00,\n",
       "        0.0000000e+00, 0.0000000e+00, 1.9979701e+00, 1.1026078e+00,\n",
       "        0.0000000e+00, 0.0000000e+00, 0.0000000e+00, 0.0000000e+00,\n",
       "        0.0000000e+00, 0.0000000e+00, 0.0000000e+00, 0.0000000e+00,\n",
       "        2.2656444e-01, 2.2765753e+00, 0.0000000e+00, 1.9411500e+00,\n",
       "        6.8241769e-01, 1.6548245e+00, 8.5458648e-01, 1.2396204e-01,\n",
       "        0.0000000e+00, 0.0000000e+00, 0.0000000e+00, 2.1038239e+00,\n",
       "        0.0000000e+00, 1.9952509e+00, 5.8023447e-01, 0.0000000e+00,\n",
       "        0.0000000e+00, 0.0000000e+00, 0.0000000e+00, 0.0000000e+00,\n",
       "        3.1456373e+00, 1.4794986e+00, 0.0000000e+00, 7.9159170e-02,\n",
       "        2.3900802e+00, 1.7929676e-01, 0.0000000e+00, 1.2804377e-01,\n",
       "        6.7979282e-01, 0.0000000e+00, 0.0000000e+00, 0.0000000e+00,\n",
       "        0.0000000e+00, 0.0000000e+00, 1.3927541e+00, 8.7980151e-01,\n",
       "        0.0000000e+00, 0.0000000e+00]], dtype=float32)>"
      ]
     },
     "execution_count": 77,
     "metadata": {},
     "output_type": "execute_result"
    }
   ],
   "source": [
    "output"
   ]
  },
  {
   "cell_type": "code",
   "execution_count": 96,
   "id": "352c6b07",
   "metadata": {},
   "outputs": [
    {
     "data": {
      "text/plain": [
       "TensorShape([1, 234])"
      ]
     },
     "execution_count": 96,
     "metadata": {},
     "output_type": "execute_result"
    }
   ],
   "source": [
    "output.shape"
   ]
  },
  {
   "cell_type": "code",
   "execution_count": 97,
   "id": "246e4606",
   "metadata": {},
   "outputs": [
    {
     "data": {
      "text/html": [
       "<div>\n",
       "<style scoped>\n",
       "    .dataframe tbody tr th:only-of-type {\n",
       "        vertical-align: middle;\n",
       "    }\n",
       "\n",
       "    .dataframe tbody tr th {\n",
       "        vertical-align: top;\n",
       "    }\n",
       "\n",
       "    .dataframe thead th {\n",
       "        text-align: right;\n",
       "    }\n",
       "</style>\n",
       "<table border=\"1\" class=\"dataframe\">\n",
       "  <thead>\n",
       "    <tr style=\"text-align: right;\">\n",
       "      <th></th>\n",
       "      <th>one-hot</th>\n",
       "    </tr>\n",
       "  </thead>\n",
       "  <tbody>\n",
       "    <tr>\n",
       "      <th>0</th>\n",
       "      <td>0.090374</td>\n",
       "    </tr>\n",
       "    <tr>\n",
       "      <th>1</th>\n",
       "      <td>0.000000</td>\n",
       "    </tr>\n",
       "    <tr>\n",
       "      <th>2</th>\n",
       "      <td>0.000000</td>\n",
       "    </tr>\n",
       "    <tr>\n",
       "      <th>3</th>\n",
       "      <td>0.348055</td>\n",
       "    </tr>\n",
       "    <tr>\n",
       "      <th>4</th>\n",
       "      <td>0.359027</td>\n",
       "    </tr>\n",
       "    <tr>\n",
       "      <th>...</th>\n",
       "      <td>...</td>\n",
       "    </tr>\n",
       "    <tr>\n",
       "      <th>229</th>\n",
       "      <td>0.373528</td>\n",
       "    </tr>\n",
       "    <tr>\n",
       "      <th>230</th>\n",
       "      <td>0.000000</td>\n",
       "    </tr>\n",
       "    <tr>\n",
       "      <th>231</th>\n",
       "      <td>0.125142</td>\n",
       "    </tr>\n",
       "    <tr>\n",
       "      <th>232</th>\n",
       "      <td>0.000000</td>\n",
       "    </tr>\n",
       "    <tr>\n",
       "      <th>233</th>\n",
       "      <td>0.000000</td>\n",
       "    </tr>\n",
       "  </tbody>\n",
       "</table>\n",
       "<p>234 rows × 1 columns</p>\n",
       "</div>"
      ],
      "text/plain": [
       "      one-hot\n",
       "0    0.090374\n",
       "1    0.000000\n",
       "2    0.000000\n",
       "3    0.348055\n",
       "4    0.359027\n",
       "..        ...\n",
       "229  0.373528\n",
       "230  0.000000\n",
       "231  0.125142\n",
       "232  0.000000\n",
       "233  0.000000\n",
       "\n",
       "[234 rows x 1 columns]"
      ]
     },
     "execution_count": 97,
     "metadata": {},
     "output_type": "execute_result"
    }
   ],
   "source": [
    "pd.DataFrame(tf.reshape(output, [234,1]).numpy(), columns = ['one-hot'])"
   ]
  },
  {
   "cell_type": "code",
   "execution_count": null,
   "id": "727bad19",
   "metadata": {},
   "outputs": [],
   "source": []
  }
 ],
 "metadata": {
  "kernelspec": {
   "display_name": "Python 3 (ipykernel)",
   "language": "python",
   "name": "python3"
  },
  "language_info": {
   "codemirror_mode": {
    "name": "ipython",
    "version": 3
   },
   "file_extension": ".py",
   "mimetype": "text/x-python",
   "name": "python",
   "nbconvert_exporter": "python",
   "pygments_lexer": "ipython3",
   "version": "3.9.15"
  }
 },
 "nbformat": 4,
 "nbformat_minor": 5
}
