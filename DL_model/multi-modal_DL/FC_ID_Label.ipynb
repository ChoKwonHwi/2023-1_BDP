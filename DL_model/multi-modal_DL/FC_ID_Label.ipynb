{
 "cells": [
  {
   "cell_type": "code",
   "execution_count": 34,
   "id": "e2ed355e",
   "metadata": {},
   "outputs": [],
   "source": [
    "import pandas as pd\n",
    "from sklearn.preprocessing import LabelEncoder\n",
    "import numpy as np\n",
    "\n",
    "df = pd.read_csv('./sub_id3.csv')"
   ]
  },
  {
   "cell_type": "code",
   "execution_count": 21,
   "id": "7d3dc727",
   "metadata": {},
   "outputs": [],
   "source": [
    "label_encoder = LabelEncoder()\n",
    "df['ID_encoded'] = label_encoder.fit_transform(df['sub_id'])"
   ]
  },
  {
   "cell_type": "code",
   "execution_count": 22,
   "id": "841e28b0",
   "metadata": {},
   "outputs": [
    {
     "name": "stdout",
     "output_type": "stream",
     "text": [
      "2.10.0\n"
     ]
    }
   ],
   "source": [
    "# embedding layer 생성\n",
    "\n",
    "import tensorflow as tf\n",
    "from tensorflow.keras.layers import Embedding\n",
    "print(tf.__version__)\n",
    "\n",
    "n_unique_ids = df['ID_encoded'].nunique()\n",
    "embedding_dim = min(n_unique_ids // 2, 50)  # 임베딩 차원 설정. 보통은 고유 ID의 수의 절반 혹은 50을 선택\n",
    "\n",
    "embedding_layer = Embedding(input_dim=n_unique_ids, \n",
    "                            output_dim=embedding_dim, \n",
    "                            input_length=1, \n",
    "                            name='ID_embedding')"
   ]
  },
  {
   "cell_type": "code",
   "execution_count": 23,
   "id": "898ee720",
   "metadata": {},
   "outputs": [
    {
     "data": {
      "text/html": [
       "<div>\n",
       "<style scoped>\n",
       "    .dataframe tbody tr th:only-of-type {\n",
       "        vertical-align: middle;\n",
       "    }\n",
       "\n",
       "    .dataframe tbody tr th {\n",
       "        vertical-align: top;\n",
       "    }\n",
       "\n",
       "    .dataframe thead th {\n",
       "        text-align: right;\n",
       "    }\n",
       "</style>\n",
       "<table border=\"1\" class=\"dataframe\">\n",
       "  <thead>\n",
       "    <tr style=\"text-align: right;\">\n",
       "      <th></th>\n",
       "      <th>sub_id</th>\n",
       "      <th>ID_encoded</th>\n",
       "    </tr>\n",
       "  </thead>\n",
       "  <tbody>\n",
       "    <tr>\n",
       "      <th>0</th>\n",
       "      <td>1</td>\n",
       "      <td>0</td>\n",
       "    </tr>\n",
       "    <tr>\n",
       "      <th>1</th>\n",
       "      <td>1</td>\n",
       "      <td>0</td>\n",
       "    </tr>\n",
       "    <tr>\n",
       "      <th>2</th>\n",
       "      <td>1</td>\n",
       "      <td>0</td>\n",
       "    </tr>\n",
       "    <tr>\n",
       "      <th>3</th>\n",
       "      <td>1</td>\n",
       "      <td>0</td>\n",
       "    </tr>\n",
       "    <tr>\n",
       "      <th>4</th>\n",
       "      <td>1</td>\n",
       "      <td>0</td>\n",
       "    </tr>\n",
       "    <tr>\n",
       "      <th>...</th>\n",
       "      <td>...</td>\n",
       "      <td>...</td>\n",
       "    </tr>\n",
       "    <tr>\n",
       "      <th>229</th>\n",
       "      <td>78</td>\n",
       "      <td>38</td>\n",
       "    </tr>\n",
       "    <tr>\n",
       "      <th>230</th>\n",
       "      <td>78</td>\n",
       "      <td>38</td>\n",
       "    </tr>\n",
       "    <tr>\n",
       "      <th>231</th>\n",
       "      <td>78</td>\n",
       "      <td>38</td>\n",
       "    </tr>\n",
       "    <tr>\n",
       "      <th>232</th>\n",
       "      <td>78</td>\n",
       "      <td>38</td>\n",
       "    </tr>\n",
       "    <tr>\n",
       "      <th>233</th>\n",
       "      <td>78</td>\n",
       "      <td>38</td>\n",
       "    </tr>\n",
       "  </tbody>\n",
       "</table>\n",
       "<p>234 rows × 2 columns</p>\n",
       "</div>"
      ],
      "text/plain": [
       "     sub_id  ID_encoded\n",
       "0         1           0\n",
       "1         1           0\n",
       "2         1           0\n",
       "3         1           0\n",
       "4         1           0\n",
       "..      ...         ...\n",
       "229      78          38\n",
       "230      78          38\n",
       "231      78          38\n",
       "232      78          38\n",
       "233      78          38\n",
       "\n",
       "[234 rows x 2 columns]"
      ]
     },
     "execution_count": 23,
     "metadata": {},
     "output_type": "execute_result"
    }
   ],
   "source": [
    "df"
   ]
  },
  {
   "cell_type": "code",
   "execution_count": 24,
   "id": "49ff8d1a",
   "metadata": {},
   "outputs": [],
   "source": [
    "# 임베딩 레이어를 통과하여 벡터 생성 후, Flatten 적용\n",
    "\n",
    "from tensorflow.keras.layers import Flatten\n",
    "\n",
    "# 데이터를 모델에 넣을 수 있는 형태로 변환\n",
    "input_data = df['ID_encoded'].values.reshape(-1, 1)\n",
    "\n",
    "# 임베딩 레이어를 통과\n",
    "embedded_data = embedding_layer(input_data)\n",
    "\n",
    "# Flatten the output to enable concatenation\n",
    "sub_id_input = Flatten()(embedded_data)"
   ]
  },
  {
   "cell_type": "code",
   "execution_count": 25,
   "id": "09969c9c",
   "metadata": {},
   "outputs": [],
   "source": [
    "input_shape = sub_id_input.shape"
   ]
  },
  {
   "cell_type": "code",
   "execution_count": 26,
   "id": "8117f981",
   "metadata": {},
   "outputs": [
    {
     "name": "stdout",
     "output_type": "stream",
     "text": [
      "Model: \"sequential_2\"\n",
      "_________________________________________________________________\n",
      " Layer (type)                Output Shape              Param #   \n",
      "=================================================================\n",
      " dense_6 (Dense)             (None, 234, 128)          2560      \n",
      "                                                                 \n",
      " dense_7 (Dense)             (None, 234, 64)           8256      \n",
      "                                                                 \n",
      " dense_8 (Dense)             (None, 234, 19)           1235      \n",
      "                                                                 \n",
      "=================================================================\n",
      "Total params: 12,051\n",
      "Trainable params: 12,051\n",
      "Non-trainable params: 0\n",
      "_________________________________________________________________\n"
     ]
    }
   ],
   "source": [
    "model = tf.keras.models.Sequential([ \n",
    "    tf.keras.layers.Dense(128, activation='relu', input_shape=input_shape), \n",
    "    tf.keras.layers.Dense(64, activation='relu'),  \n",
    "    tf.keras.layers.Dense(19)\n",
    "])\n",
    "\n",
    "# 모델 요약 정보 출력\n",
    "model.summary()"
   ]
  },
  {
   "cell_type": "code",
   "execution_count": 28,
   "id": "76bc4e28",
   "metadata": {},
   "outputs": [],
   "source": [
    "sub_id_input = tf.expand_dims(sub_id_input, axis = 0)\n",
    "output = model(sub_id_input)"
   ]
  },
  {
   "cell_type": "code",
   "execution_count": 38,
   "id": "d2badbf6",
   "metadata": {},
   "outputs": [],
   "source": [
    "output = np.squeeze(output, axis = 0)"
   ]
  },
  {
   "cell_type": "code",
   "execution_count": 41,
   "id": "b9ca5ec9",
   "metadata": {},
   "outputs": [],
   "source": [
    "ids = pd.DataFrame(output, columns = [i for i in range(1, 20)])"
   ]
  },
  {
   "cell_type": "code",
   "execution_count": 42,
   "id": "5f3a0112",
   "metadata": {},
   "outputs": [],
   "source": [
    "ids.to_csv('id_labels.csv')"
   ]
  },
  {
   "cell_type": "markdown",
   "id": "a8570564",
   "metadata": {},
   "source": [
    "# Feel One Hot Encoding FC"
   ]
  },
  {
   "cell_type": "code",
   "execution_count": 47,
   "id": "7eac4a28",
   "metadata": {},
   "outputs": [
    {
     "data": {
      "text/html": [
       "<div>\n",
       "<style scoped>\n",
       "    .dataframe tbody tr th:only-of-type {\n",
       "        vertical-align: middle;\n",
       "    }\n",
       "\n",
       "    .dataframe tbody tr th {\n",
       "        vertical-align: top;\n",
       "    }\n",
       "\n",
       "    .dataframe thead th {\n",
       "        text-align: right;\n",
       "    }\n",
       "</style>\n",
       "<table border=\"1\" class=\"dataframe\">\n",
       "  <thead>\n",
       "    <tr style=\"text-align: right;\">\n",
       "      <th></th>\n",
       "      <th>video_id</th>\n",
       "    </tr>\n",
       "  </thead>\n",
       "  <tbody>\n",
       "    <tr>\n",
       "      <th>0</th>\n",
       "      <td>neutral</td>\n",
       "    </tr>\n",
       "    <tr>\n",
       "      <th>1</th>\n",
       "      <td>disgust</td>\n",
       "    </tr>\n",
       "    <tr>\n",
       "      <th>2</th>\n",
       "      <td>fear</td>\n",
       "    </tr>\n",
       "    <tr>\n",
       "      <th>3</th>\n",
       "      <td>sad</td>\n",
       "    </tr>\n",
       "    <tr>\n",
       "      <th>4</th>\n",
       "      <td>happy</td>\n",
       "    </tr>\n",
       "    <tr>\n",
       "      <th>...</th>\n",
       "      <td>...</td>\n",
       "    </tr>\n",
       "    <tr>\n",
       "      <th>229</th>\n",
       "      <td>disgust</td>\n",
       "    </tr>\n",
       "    <tr>\n",
       "      <th>230</th>\n",
       "      <td>anger</td>\n",
       "    </tr>\n",
       "    <tr>\n",
       "      <th>231</th>\n",
       "      <td>sad</td>\n",
       "    </tr>\n",
       "    <tr>\n",
       "      <th>232</th>\n",
       "      <td>happy</td>\n",
       "    </tr>\n",
       "    <tr>\n",
       "      <th>233</th>\n",
       "      <td>fear</td>\n",
       "    </tr>\n",
       "  </tbody>\n",
       "</table>\n",
       "<p>234 rows × 1 columns</p>\n",
       "</div>"
      ],
      "text/plain": [
       "    video_id\n",
       "0    neutral\n",
       "1    disgust\n",
       "2       fear\n",
       "3        sad\n",
       "4      happy\n",
       "..       ...\n",
       "229  disgust\n",
       "230    anger\n",
       "231      sad\n",
       "232    happy\n",
       "233     fear\n",
       "\n",
       "[234 rows x 1 columns]"
      ]
     },
     "execution_count": 47,
     "metadata": {},
     "output_type": "execute_result"
    }
   ],
   "source": [
    "# 데이터 불러오기\n",
    "import pandas as pd\n",
    "\n",
    "df = pd.read_csv('./video_id.csv')\n",
    "df"
   ]
  },
  {
   "cell_type": "code",
   "execution_count": 49,
   "id": "7b454998",
   "metadata": {},
   "outputs": [],
   "source": [
    "# OneHotEncoding\n",
    "from sklearn.preprocessing import OneHotEncoder\n",
    "\n",
    "# Initialize OneHotEncoder\n",
    "one_hot_encoder = OneHotEncoder()\n",
    "\n",
    "# Perform one-hot encoding\n",
    "one_hot_encoded = one_hot_encoder.fit_transform(df['video_id'].values.reshape(-1, 1))\n",
    "\n",
    "input_data = one_hot_encoded.toarray()\n",
    "# Convert the result back to a dataframe\n",
    "#df_encoded = pd.DataFrame(one_hot_encoded, columns=one_hot_encoder.categories_[0])\n",
    "\n",
    "# Convert df_encoded to a suitable input for Keras\n",
    "input_shape = input_data.shape\n",
    "\n",
    "#video_id_input = df_encoded.values"
   ]
  },
  {
   "cell_type": "code",
   "execution_count": 50,
   "id": "dbd3ccfd",
   "metadata": {},
   "outputs": [
    {
     "name": "stdout",
     "output_type": "stream",
     "text": [
      "Model: \"sequential_5\"\n",
      "_________________________________________________________________\n",
      " Layer (type)                Output Shape              Param #   \n",
      "=================================================================\n",
      " dense_13 (Dense)            (None, 234, 128)          896       \n",
      "                                                                 \n",
      " dense_14 (Dense)            (None, 234, 64)           8256      \n",
      "                                                                 \n",
      " dense_15 (Dense)            (None, 234, 6)            390       \n",
      "                                                                 \n",
      "=================================================================\n",
      "Total params: 9,542\n",
      "Trainable params: 9,542\n",
      "Non-trainable params: 0\n",
      "_________________________________________________________________\n"
     ]
    }
   ],
   "source": [
    "model = tf.keras.models.Sequential([ \n",
    "    tf.keras.layers.Dense(128, activation='relu', input_shape=input_shape), \n",
    "    tf.keras.layers.Dense(64, activation='relu'),  \n",
    "    tf.keras.layers.Dense(6)\n",
    "])\n",
    "\n",
    "# 모델 요약 정보 출력\n",
    "model.summary()"
   ]
  },
  {
   "cell_type": "code",
   "execution_count": 52,
   "id": "a454e099",
   "metadata": {},
   "outputs": [],
   "source": [
    "input_data = tf.expand_dims(input_data, axis = 0)\n",
    "feel_output = model(input_data)"
   ]
  },
  {
   "cell_type": "code",
   "execution_count": 53,
   "id": "de22f502",
   "metadata": {},
   "outputs": [
    {
     "data": {
      "text/plain": [
       "<tf.Tensor: shape=(1, 234, 6), dtype=float32, numpy=\n",
       "array([[[ 0.06554836, -0.07414433, -0.00179375,  0.13654405,\n",
       "         -0.08512551,  0.07702193],\n",
       "        [ 0.07658231,  0.02265197,  0.0679667 ,  0.14202967,\n",
       "         -0.14563766,  0.08540148],\n",
       "        [ 0.15202275,  0.1284013 , -0.04809507,  0.07894608,\n",
       "         -0.19606239,  0.03557146],\n",
       "        ...,\n",
       "        [ 0.10115917, -0.0490021 , -0.01578688,  0.14458548,\n",
       "         -0.10818056, -0.0892704 ],\n",
       "        [-0.0512649 , -0.02255691, -0.08369994,  0.12842439,\n",
       "         -0.00357763,  0.00918187],\n",
       "        [ 0.15202275,  0.1284013 , -0.04809507,  0.07894608,\n",
       "         -0.19606239,  0.03557146]]], dtype=float32)>"
      ]
     },
     "execution_count": 53,
     "metadata": {},
     "output_type": "execute_result"
    }
   ],
   "source": [
    "feel_output"
   ]
  },
  {
   "cell_type": "code",
   "execution_count": 54,
   "id": "f84905f1",
   "metadata": {},
   "outputs": [
    {
     "data": {
      "text/plain": [
       "array([[ 0.06554836, -0.07414433, -0.00179375,  0.13654405, -0.08512551,\n",
       "         0.07702193],\n",
       "       [ 0.07658231,  0.02265197,  0.0679667 ,  0.14202967, -0.14563766,\n",
       "         0.08540148],\n",
       "       [ 0.15202275,  0.1284013 , -0.04809507,  0.07894608, -0.19606239,\n",
       "         0.03557146],\n",
       "       ...,\n",
       "       [ 0.10115917, -0.0490021 , -0.01578688,  0.14458548, -0.10818056,\n",
       "        -0.0892704 ],\n",
       "       [-0.0512649 , -0.02255691, -0.08369994,  0.12842439, -0.00357763,\n",
       "         0.00918187],\n",
       "       [ 0.15202275,  0.1284013 , -0.04809507,  0.07894608, -0.19606239,\n",
       "         0.03557146]], dtype=float32)"
      ]
     },
     "execution_count": 54,
     "metadata": {},
     "output_type": "execute_result"
    }
   ],
   "source": [
    "feel_output = np.squeeze(feel_output, axis = 0)\n",
    "feel_output"
   ]
  },
  {
   "cell_type": "code",
   "execution_count": 55,
   "id": "ce118260",
   "metadata": {},
   "outputs": [],
   "source": [
    "feels = pd.DataFrame(feel_output, columns = [i for i in range(1, 7)])"
   ]
  },
  {
   "cell_type": "code",
   "execution_count": 56,
   "id": "cb45f30a",
   "metadata": {},
   "outputs": [
    {
     "data": {
      "text/html": [
       "<div>\n",
       "<style scoped>\n",
       "    .dataframe tbody tr th:only-of-type {\n",
       "        vertical-align: middle;\n",
       "    }\n",
       "\n",
       "    .dataframe tbody tr th {\n",
       "        vertical-align: top;\n",
       "    }\n",
       "\n",
       "    .dataframe thead th {\n",
       "        text-align: right;\n",
       "    }\n",
       "</style>\n",
       "<table border=\"1\" class=\"dataframe\">\n",
       "  <thead>\n",
       "    <tr style=\"text-align: right;\">\n",
       "      <th></th>\n",
       "      <th>1</th>\n",
       "      <th>2</th>\n",
       "      <th>3</th>\n",
       "      <th>4</th>\n",
       "      <th>5</th>\n",
       "      <th>6</th>\n",
       "    </tr>\n",
       "  </thead>\n",
       "  <tbody>\n",
       "    <tr>\n",
       "      <th>0</th>\n",
       "      <td>0.065548</td>\n",
       "      <td>-0.074144</td>\n",
       "      <td>-0.001794</td>\n",
       "      <td>0.136544</td>\n",
       "      <td>-0.085126</td>\n",
       "      <td>0.077022</td>\n",
       "    </tr>\n",
       "    <tr>\n",
       "      <th>1</th>\n",
       "      <td>0.076582</td>\n",
       "      <td>0.022652</td>\n",
       "      <td>0.067967</td>\n",
       "      <td>0.142030</td>\n",
       "      <td>-0.145638</td>\n",
       "      <td>0.085401</td>\n",
       "    </tr>\n",
       "    <tr>\n",
       "      <th>2</th>\n",
       "      <td>0.152023</td>\n",
       "      <td>0.128401</td>\n",
       "      <td>-0.048095</td>\n",
       "      <td>0.078946</td>\n",
       "      <td>-0.196062</td>\n",
       "      <td>0.035571</td>\n",
       "    </tr>\n",
       "    <tr>\n",
       "      <th>3</th>\n",
       "      <td>0.101159</td>\n",
       "      <td>-0.049002</td>\n",
       "      <td>-0.015787</td>\n",
       "      <td>0.144585</td>\n",
       "      <td>-0.108181</td>\n",
       "      <td>-0.089270</td>\n",
       "    </tr>\n",
       "    <tr>\n",
       "      <th>4</th>\n",
       "      <td>-0.051265</td>\n",
       "      <td>-0.022557</td>\n",
       "      <td>-0.083700</td>\n",
       "      <td>0.128424</td>\n",
       "      <td>-0.003578</td>\n",
       "      <td>0.009182</td>\n",
       "    </tr>\n",
       "    <tr>\n",
       "      <th>...</th>\n",
       "      <td>...</td>\n",
       "      <td>...</td>\n",
       "      <td>...</td>\n",
       "      <td>...</td>\n",
       "      <td>...</td>\n",
       "      <td>...</td>\n",
       "    </tr>\n",
       "    <tr>\n",
       "      <th>229</th>\n",
       "      <td>0.076582</td>\n",
       "      <td>0.022652</td>\n",
       "      <td>0.067967</td>\n",
       "      <td>0.142030</td>\n",
       "      <td>-0.145638</td>\n",
       "      <td>0.085401</td>\n",
       "    </tr>\n",
       "    <tr>\n",
       "      <th>230</th>\n",
       "      <td>0.047362</td>\n",
       "      <td>0.151042</td>\n",
       "      <td>-0.116284</td>\n",
       "      <td>0.095124</td>\n",
       "      <td>0.036967</td>\n",
       "      <td>0.100075</td>\n",
       "    </tr>\n",
       "    <tr>\n",
       "      <th>231</th>\n",
       "      <td>0.101159</td>\n",
       "      <td>-0.049002</td>\n",
       "      <td>-0.015787</td>\n",
       "      <td>0.144585</td>\n",
       "      <td>-0.108181</td>\n",
       "      <td>-0.089270</td>\n",
       "    </tr>\n",
       "    <tr>\n",
       "      <th>232</th>\n",
       "      <td>-0.051265</td>\n",
       "      <td>-0.022557</td>\n",
       "      <td>-0.083700</td>\n",
       "      <td>0.128424</td>\n",
       "      <td>-0.003578</td>\n",
       "      <td>0.009182</td>\n",
       "    </tr>\n",
       "    <tr>\n",
       "      <th>233</th>\n",
       "      <td>0.152023</td>\n",
       "      <td>0.128401</td>\n",
       "      <td>-0.048095</td>\n",
       "      <td>0.078946</td>\n",
       "      <td>-0.196062</td>\n",
       "      <td>0.035571</td>\n",
       "    </tr>\n",
       "  </tbody>\n",
       "</table>\n",
       "<p>234 rows × 6 columns</p>\n",
       "</div>"
      ],
      "text/plain": [
       "            1         2         3         4         5         6\n",
       "0    0.065548 -0.074144 -0.001794  0.136544 -0.085126  0.077022\n",
       "1    0.076582  0.022652  0.067967  0.142030 -0.145638  0.085401\n",
       "2    0.152023  0.128401 -0.048095  0.078946 -0.196062  0.035571\n",
       "3    0.101159 -0.049002 -0.015787  0.144585 -0.108181 -0.089270\n",
       "4   -0.051265 -0.022557 -0.083700  0.128424 -0.003578  0.009182\n",
       "..        ...       ...       ...       ...       ...       ...\n",
       "229  0.076582  0.022652  0.067967  0.142030 -0.145638  0.085401\n",
       "230  0.047362  0.151042 -0.116284  0.095124  0.036967  0.100075\n",
       "231  0.101159 -0.049002 -0.015787  0.144585 -0.108181 -0.089270\n",
       "232 -0.051265 -0.022557 -0.083700  0.128424 -0.003578  0.009182\n",
       "233  0.152023  0.128401 -0.048095  0.078946 -0.196062  0.035571\n",
       "\n",
       "[234 rows x 6 columns]"
      ]
     },
     "execution_count": 56,
     "metadata": {},
     "output_type": "execute_result"
    }
   ],
   "source": [
    "feels"
   ]
  },
  {
   "cell_type": "code",
   "execution_count": 57,
   "id": "286ade1e",
   "metadata": {},
   "outputs": [],
   "source": [
    "feels.to_csv('feeling_labels.csv')"
   ]
  }
 ],
 "metadata": {
  "kernelspec": {
   "display_name": "Python 3 (ipykernel)",
   "language": "python",
   "name": "python3"
  },
  "language_info": {
   "codemirror_mode": {
    "name": "ipython",
    "version": 3
   },
   "file_extension": ".py",
   "mimetype": "text/x-python",
   "name": "python",
   "nbconvert_exporter": "python",
   "pygments_lexer": "ipython3",
   "version": "3.9.15"
  }
 },
 "nbformat": 4,
 "nbformat_minor": 5
}
