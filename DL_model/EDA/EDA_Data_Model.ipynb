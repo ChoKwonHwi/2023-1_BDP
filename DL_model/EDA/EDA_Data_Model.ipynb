{
 "cells": [
  {
   "cell_type": "code",
   "execution_count": 4,
   "metadata": {},
   "outputs": [],
   "source": [
    "import warnings\n",
    "warnings.filterwarnings(\"ignore\")"
   ]
  },
  {
   "cell_type": "code",
   "execution_count": 11,
   "metadata": {},
   "outputs": [],
   "source": [
    "import numpy as np\n",
    "import pandas as pd\n",
    "from sklearn.preprocessing import StandardScaler\n",
    "from keras.models import Model\n",
    "from keras.layers import Input, Dense\n",
    "\n",
    "# EDA 데이터 경로 설정\n",
    "eda_folder = \"EDA_preprocessed/Output_EDA/\"\n",
    "\n",
    "# train, test split\n",
    "train_ids = ['001', '005', '006', '009', '010', '011', '012', '013', '015', '021', '022', '023',\n",
    "             '024', '026', '027', '028', '031', '032', '033', '036', '038', '041', '042', '044',\n",
    "             '045', '047', '053', '054', '055', '060', '062', '063', '064', '066', '070', '072',\n",
    "             '073', '075', '076', '077', '078']\n",
    "test_ids = ['002', '003', '007', '017', '018', '019', '020', '025', '029', '030', '039', '043',\n",
    "            '048', '052', '059', '065', '068', '074']\n",
    "\n",
    "# 데이터프레임 초기화\n",
    "X_train = pd.DataFrame()\n",
    "X_test = pd.DataFrame()\n",
    "y_train = []\n",
    "y_test = []\n",
    "\n",
    "# 데이터 전처리\n",
    "data_train = []\n",
    "data_test = []\n",
    "\n",
    "# 전체 데이터셋에 대한 표준화\n",
    "scaler = StandardScaler()\n",
    "\n",
    "for id in train_ids:\n",
    "    for emotion in ['happy', 'fear', 'sad', 'neutral', 'anger', 'disgust']:\n",
    "        file_path = f\"{eda_folder}/{id}/{id}_{emotion}.csv\"\n",
    "        data = pd.read_csv(file_path, header=None)\n",
    "        scaled_data = scaler.fit_transform(data)\n",
    "        data_train.append(scaled_data)\n",
    "        y_train.append(emotion)  \n",
    "\n",
    "for id in test_ids:\n",
    "    for emotion in ['happy', 'fear', 'sad', 'neutral', 'anger', 'disgust']:\n",
    "        file_path = f\"{eda_folder}/{id}/{id}_{emotion}.csv\"\n",
    "        data = pd.read_csv(file_path, header=None)\n",
    "        scaled_data = scaler.transform(data)\n",
    "        data_test.append(scaled_data)\n",
    "        y_test.append(emotion)  \n",
    "\n"
   ]
  },
  {
   "cell_type": "code",
   "execution_count": 12,
   "metadata": {},
   "outputs": [],
   "source": [
    "# 데이터를 각각의 리스트에 추가\n",
    "for i in range(len(train_ids)):\n",
    "    for j in range(6):\n",
    "        features = np.concatenate((np.array([train_ids[i]]), data_train[i][j].flatten(), np.array([j])), axis=None)\n",
    "        X_train = X_train.append(pd.Series(features), ignore_index=True)\n",
    "\n",
    "for i in range(len(test_ids)):\n",
    "    for j in range(6):\n",
    "        features = np.concatenate((np.array([test_ids[i]]), data_test[i][j].flatten(), np.array([j])), axis=None)\n",
    "        X_test = X_test.append(pd.Series(features), ignore_index=True)\n"
   ]
  },
  {
   "cell_type": "code",
   "execution_count": 13,
   "metadata": {},
   "outputs": [
    {
     "name": "stdout",
     "output_type": "stream",
     "text": [
      "0    object\n",
      "1    object\n",
      "2    object\n",
      "dtype: object\n",
      "0    object\n",
      "1    object\n",
      "2    object\n",
      "dtype: object\n"
     ]
    }
   ],
   "source": [
    "print(X_train.dtypes)\n",
    "print(X_test.dtypes)"
   ]
  },
  {
   "cell_type": "code",
   "execution_count": 14,
   "metadata": {},
   "outputs": [],
   "source": [
    "# 데이터 유형 변환\n",
    "X_train = X_train.astype(float)\n",
    "X_test = X_test.astype(float)"
   ]
  },
  {
   "cell_type": "code",
   "execution_count": 15,
   "metadata": {},
   "outputs": [],
   "source": [
    "# 라벨 데이터 변환\n",
    "label_mapping = {'happy': 0, 'fear': 1, 'sad': 2, 'neutral': 3, 'anger': 4, 'disgust': 5}\n",
    "y_train = [label_mapping[y] for y in y_train]\n",
    "y_test = [label_mapping[y] for y in y_test]"
   ]
  },
  {
   "cell_type": "code",
   "execution_count": 16,
   "metadata": {},
   "outputs": [
    {
     "name": "stdout",
     "output_type": "stream",
     "text": [
      "0    float64\n",
      "1    float64\n",
      "2    float64\n",
      "dtype: object\n",
      "0    float64\n",
      "1    float64\n",
      "2    float64\n",
      "dtype: object\n"
     ]
    }
   ],
   "source": [
    "print(X_train.dtypes)\n",
    "print(X_test.dtypes)"
   ]
  },
  {
   "cell_type": "code",
   "execution_count": 61,
   "metadata": {},
   "outputs": [
    {
     "name": "stdout",
     "output_type": "stream",
     "text": [
      "Epoch 1/10\n",
      "8/8 [==============================] - 1s 57ms/step - loss: 692.4851 - val_loss: 5350.8989\n",
      "Epoch 2/10\n",
      "8/8 [==============================] - 0s 28ms/step - loss: 691.8301 - val_loss: 5350.0718\n",
      "Epoch 3/10\n",
      "8/8 [==============================] - 0s 24ms/step - loss: 691.7368 - val_loss: 5349.5581\n",
      "Epoch 4/10\n",
      "8/8 [==============================] - 0s 10ms/step - loss: 691.6962 - val_loss: 5348.6631\n",
      "Epoch 5/10\n",
      "8/8 [==============================] - 0s 12ms/step - loss: 691.6662 - val_loss: 5347.5581\n",
      "Epoch 6/10\n",
      "8/8 [==============================] - 0s 12ms/step - loss: 691.5668 - val_loss: 5346.7939\n",
      "Epoch 7/10\n",
      "8/8 [==============================] - 0s 10ms/step - loss: 691.5410 - val_loss: 5346.7217\n",
      "Epoch 8/10\n",
      "8/8 [==============================] - 0s 17ms/step - loss: 691.4851 - val_loss: 5346.7871\n",
      "Epoch 9/10\n",
      "8/8 [==============================] - 0s 32ms/step - loss: 691.4518 - val_loss: 5346.6963\n",
      "Epoch 10/10\n",
      "8/8 [==============================] - 0s 14ms/step - loss: 691.4282 - val_loss: 5346.6992\n",
      "8/8 [==============================] - 0s 6ms/step\n",
      "4/4 [==============================] - 0s 5ms/step\n"
     ]
    }
   ],
   "source": [
    "# Autoencoder 모델 정의\n",
    "input_dim = X_train.shape[1]\n",
    "encoding_dim = 32\n",
    "\n",
    "input_layer = Input(shape=(input_dim,))\n",
    "encoder = Dense(encoding_dim*2, activation='relu')(input_layer)\n",
    "encoder2 = Dense(encoding_dim, activation='relu')(encoder)\n",
    "decoder = Dense(encoding_dim*2, activation='relu')(encoder2)\n",
    "decoder2 = Dense(input_dim, activation='sigmoid')(decoder)\n",
    "\n",
    "autoencoder = Model(input_layer, decoder2)\n",
    "autoencoder.compile(optimizer='adam', loss='mse')\n",
    "\n",
    "# 모델 학습\n",
    "autoencoder.fit(X_train, X_train, epochs=10, batch_size=32, shuffle=True, validation_data=(X_test, X_test))\n",
    "\n",
    "# 특징 추출\n",
    "encoder_model = Model(input_layer, encoder2)\n",
    "encoded_X_train = encoder_model.predict(X_train)\n",
    "encoded_X_test = encoder_model.predict(X_test)\n"
   ]
  },
  {
   "cell_type": "code",
   "execution_count": 50,
   "metadata": {},
   "outputs": [
    {
     "name": "stdout",
     "output_type": "stream",
     "text": [
      "Encoded Train data:\n",
      "[[6.31565303e-02 1.56413853e-01 0.00000000e+00 ... 0.00000000e+00\n",
      "  0.00000000e+00 1.44076630e-01]\n",
      " [1.04778215e-01 4.03436750e-01 0.00000000e+00 ... 3.86607181e-03\n",
      "  0.00000000e+00 1.78315297e-01]\n",
      " [0.00000000e+00 1.32615292e+00 0.00000000e+00 ... 0.00000000e+00\n",
      "  0.00000000e+00 4.91463929e-01]\n",
      " ...\n",
      " [5.93901730e+00 6.14910030e+00 0.00000000e+00 ... 0.00000000e+00\n",
      "  0.00000000e+00 9.11300564e+00]\n",
      " [5.82573175e+00 6.40259600e+00 0.00000000e+00 ... 0.00000000e+00\n",
      "  0.00000000e+00 9.22798252e+00]\n",
      " [5.78646994e+00 6.56912184e+00 0.00000000e+00 ... 0.00000000e+00\n",
      "  0.00000000e+00 9.30910683e+00]]\n",
      "Encoded Test data:\n",
      "[[ 0.         0.         0.        ...  0.         0.         1.6483961]\n",
      " [ 0.         0.         0.        ...  0.         0.         1.7154598]\n",
      " [ 0.         0.         0.        ...  0.         0.         1.772403 ]\n",
      " ...\n",
      " [ 0.        91.08705    0.        ...  0.         0.        60.42357  ]\n",
      " [ 0.        91.61652    0.        ...  0.         0.        60.6772   ]\n",
      " [ 0.        91.67142    0.        ...  0.         0.        60.63979  ]]\n"
     ]
    }
   ],
   "source": [
    "# 결과 확인\n",
    "print(\"Encoded Train data:\")\n",
    "print(encoded_X_train)\n",
    "print(\"Encoded Test data:\")\n",
    "print(encoded_X_test)"
   ]
  }
 ],
 "metadata": {
  "kernelspec": {
   "display_name": "base",
   "language": "python",
   "name": "python3"
  },
  "language_info": {
   "codemirror_mode": {
    "name": "ipython",
    "version": 3
   },
   "file_extension": ".py",
   "mimetype": "text/x-python",
   "name": "python",
   "nbconvert_exporter": "python",
   "pygments_lexer": "ipython3",
   "version": "3.9.7"
  },
  "orig_nbformat": 4
 },
 "nbformat": 4,
 "nbformat_minor": 2
}
